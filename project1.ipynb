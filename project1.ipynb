{
 "cells": [
  {
   "cell_type": "markdown",
   "metadata": {},
   "source": [
    "Imports"
   ]
  },
  {
   "cell_type": "code",
   "execution_count": 86,
   "metadata": {},
   "outputs": [],
   "source": [
    "import pandas as pd\n",
    "from oauth2client.service_account import ServiceAccountCredentials\n",
    "import pprint\n",
    "from gspread_dataframe import get_as_dataframe\n",
    "import time\n",
    "from datetime import date\n",
    "import gspread\n",
    "import datetime\n",
    "import plotly.express as px\n"
   ]
  },
  {
   "cell_type": "markdown",
   "metadata": {},
   "source": [
    "Connect to Google Sheets"
   ]
  },
  {
   "cell_type": "code",
   "execution_count": 87,
   "metadata": {},
   "outputs": [],
   "source": [
    "service_account=gspread.service_account(filename=\"gambling-7-24-bf73ca0313d0.json\")"
   ]
  },
  {
   "cell_type": "code",
   "execution_count": 88,
   "metadata": {},
   "outputs": [],
   "source": [
    "sheet=service_account.open(\"Discipline\")"
   ]
  },
  {
   "cell_type": "code",
   "execution_count": 89,
   "metadata": {},
   "outputs": [],
   "source": [
    "worksheet=sheet.worksheet(\"Picks\")"
   ]
  },
  {
   "cell_type": "code",
   "execution_count": 90,
   "metadata": {},
   "outputs": [],
   "source": [
    "df = pd.DataFrame(worksheet.get_all_records())"
   ]
  },
  {
   "cell_type": "code",
   "execution_count": 91,
   "metadata": {},
   "outputs": [
    {
     "data": {
      "text/html": [
       "<div>\n",
       "<style scoped>\n",
       "    .dataframe tbody tr th:only-of-type {\n",
       "        vertical-align: middle;\n",
       "    }\n",
       "\n",
       "    .dataframe tbody tr th {\n",
       "        vertical-align: top;\n",
       "    }\n",
       "\n",
       "    .dataframe thead th {\n",
       "        text-align: right;\n",
       "    }\n",
       "</style>\n",
       "<table border=\"1\" class=\"dataframe\">\n",
       "  <thead>\n",
       "    <tr style=\"text-align: right;\">\n",
       "      <th></th>\n",
       "      <th>Date</th>\n",
       "      <th>Week</th>\n",
       "      <th>Sport</th>\n",
       "      <th>League</th>\n",
       "      <th>Gender</th>\n",
       "      <th>Timing</th>\n",
       "      <th>Type_of_Wager</th>\n",
       "      <th>Twitter</th>\n",
       "      <th>Odds</th>\n",
       "      <th>Outcome</th>\n",
       "      <th>Game_Details</th>\n",
       "      <th>Read</th>\n",
       "      <th>Bet</th>\n",
       "      <th>Win/Lose</th>\n",
       "      <th>% of Bankroll</th>\n",
       "    </tr>\n",
       "  </thead>\n",
       "  <tbody>\n",
       "    <tr>\n",
       "      <th>0</th>\n",
       "      <td>8/8/2022</td>\n",
       "      <td>32</td>\n",
       "      <td>Soccer</td>\n",
       "      <td>Italy</td>\n",
       "      <td>Male</td>\n",
       "      <td>Full</td>\n",
       "      <td>Spread</td>\n",
       "      <td>erik</td>\n",
       "      <td>-110</td>\n",
       "      <td>W</td>\n",
       "      <td>Roma -.75</td>\n",
       "      <td>3</td>\n",
       "      <td>$13.00</td>\n",
       "      <td>$5.00</td>\n",
       "      <td>2.10%</td>\n",
       "    </tr>\n",
       "    <tr>\n",
       "      <th>1</th>\n",
       "      <td>8/8/2022</td>\n",
       "      <td>32</td>\n",
       "      <td>Soccer</td>\n",
       "      <td>Germany</td>\n",
       "      <td>Male</td>\n",
       "      <td>Full</td>\n",
       "      <td>Spread</td>\n",
       "      <td>adam</td>\n",
       "      <td>-110</td>\n",
       "      <td>L</td>\n",
       "      <td>Leverkusen -1.5</td>\n",
       "      <td>1</td>\n",
       "      <td>$12.50</td>\n",
       "      <td>-$12.50</td>\n",
       "      <td>2.02%</td>\n",
       "    </tr>\n",
       "    <tr>\n",
       "      <th>2</th>\n",
       "      <td>8/8/2022</td>\n",
       "      <td>32</td>\n",
       "      <td>Football</td>\n",
       "      <td>NFL</td>\n",
       "      <td>Male</td>\n",
       "      <td>Full</td>\n",
       "      <td>Total</td>\n",
       "      <td>adam</td>\n",
       "      <td>-110</td>\n",
       "      <td>L</td>\n",
       "      <td>Cardinals Bengals under 32</td>\n",
       "      <td>2</td>\n",
       "      <td>$11.00</td>\n",
       "      <td>-$11.00</td>\n",
       "      <td>1.78%</td>\n",
       "    </tr>\n",
       "    <tr>\n",
       "      <th>3</th>\n",
       "      <td>8/8/2022</td>\n",
       "      <td>32</td>\n",
       "      <td>Football</td>\n",
       "      <td>NFL</td>\n",
       "      <td>Male</td>\n",
       "      <td>Full</td>\n",
       "      <td>Spread</td>\n",
       "      <td>adam</td>\n",
       "      <td>-110</td>\n",
       "      <td>L</td>\n",
       "      <td>Eagles +2</td>\n",
       "      <td>2</td>\n",
       "      <td>$11.00</td>\n",
       "      <td>-$11.00</td>\n",
       "      <td>1.78%</td>\n",
       "    </tr>\n",
       "    <tr>\n",
       "      <th>4</th>\n",
       "      <td>8/8/2022</td>\n",
       "      <td>32</td>\n",
       "      <td>Tennis</td>\n",
       "      <td>ATP</td>\n",
       "      <td>Female</td>\n",
       "      <td>Live</td>\n",
       "      <td>Total</td>\n",
       "      <td>erik</td>\n",
       "      <td>-118</td>\n",
       "      <td>W</td>\n",
       "      <td>Vandewedghe Tauson over 28.5</td>\n",
       "      <td>2</td>\n",
       "      <td>$11.00</td>\n",
       "      <td>$10.00</td>\n",
       "      <td>1.78%</td>\n",
       "    </tr>\n",
       "    <tr>\n",
       "      <th>5</th>\n",
       "      <td>8/8/2022</td>\n",
       "      <td>32</td>\n",
       "      <td>Football</td>\n",
       "      <td>NFL</td>\n",
       "      <td>Male</td>\n",
       "      <td>Full</td>\n",
       "      <td>Total</td>\n",
       "      <td>adam</td>\n",
       "      <td>-110</td>\n",
       "      <td>L</td>\n",
       "      <td>Ravens Titans under 31</td>\n",
       "      <td>2</td>\n",
       "      <td>$11.00</td>\n",
       "      <td>-$11.00</td>\n",
       "      <td>1.78%</td>\n",
       "    </tr>\n",
       "    <tr>\n",
       "      <th>6</th>\n",
       "      <td>8/8/2022</td>\n",
       "      <td>32</td>\n",
       "      <td>Baseball</td>\n",
       "      <td>MLB</td>\n",
       "      <td>Male</td>\n",
       "      <td>Full</td>\n",
       "      <td>Total</td>\n",
       "      <td>erik</td>\n",
       "      <td>100</td>\n",
       "      <td>W</td>\n",
       "      <td>Cubs Reds under 9</td>\n",
       "      <td>3</td>\n",
       "      <td>$12.50</td>\n",
       "      <td>$10.00</td>\n",
       "      <td>2.02%</td>\n",
       "    </tr>\n",
       "    <tr>\n",
       "      <th>7</th>\n",
       "      <td>8/8/2022</td>\n",
       "      <td>32</td>\n",
       "      <td>Basketball</td>\n",
       "      <td>WNBA</td>\n",
       "      <td>Female</td>\n",
       "      <td>Full</td>\n",
       "      <td>Total</td>\n",
       "      <td>erik</td>\n",
       "      <td>-110</td>\n",
       "      <td>W</td>\n",
       "      <td>Liberty Wings over 163</td>\n",
       "      <td>3</td>\n",
       "      <td>$11.00</td>\n",
       "      <td>$10.00</td>\n",
       "      <td>1.78%</td>\n",
       "    </tr>\n",
       "    <tr>\n",
       "      <th>8</th>\n",
       "      <td>8/8/2022</td>\n",
       "      <td>32</td>\n",
       "      <td>Baseball</td>\n",
       "      <td>MLB</td>\n",
       "      <td>Male</td>\n",
       "      <td>Full</td>\n",
       "      <td>Total</td>\n",
       "      <td>gunit</td>\n",
       "      <td>100</td>\n",
       "      <td>W</td>\n",
       "      <td>Cubs Nationals under 7.5</td>\n",
       "      <td>4</td>\n",
       "      <td>$11.00</td>\n",
       "      <td>$10.00</td>\n",
       "      <td>1.78%</td>\n",
       "    </tr>\n",
       "    <tr>\n",
       "      <th>9</th>\n",
       "      <td>8/8/2022</td>\n",
       "      <td>32</td>\n",
       "      <td>Baseball</td>\n",
       "      <td>MLB</td>\n",
       "      <td>Male</td>\n",
       "      <td>Full</td>\n",
       "      <td>Total</td>\n",
       "      <td>gunit</td>\n",
       "      <td>100</td>\n",
       "      <td>W</td>\n",
       "      <td>Pirates DBacks over 8.5</td>\n",
       "      <td>3</td>\n",
       "      <td>$11.50</td>\n",
       "      <td>$10.00</td>\n",
       "      <td>1.86%</td>\n",
       "    </tr>\n",
       "    <tr>\n",
       "      <th>10</th>\n",
       "      <td>8/8/2022</td>\n",
       "      <td>32</td>\n",
       "      <td>Soccer</td>\n",
       "      <td>England</td>\n",
       "      <td>Male</td>\n",
       "      <td>Live</td>\n",
       "      <td>Total</td>\n",
       "      <td>erik</td>\n",
       "      <td>-125</td>\n",
       "      <td>W</td>\n",
       "      <td>Shrewsbury Carlisle over 2.25</td>\n",
       "      <td>4</td>\n",
       "      <td>$12.50</td>\n",
       "      <td>$10.00</td>\n",
       "      <td>2.02%</td>\n",
       "    </tr>\n",
       "    <tr>\n",
       "      <th>11</th>\n",
       "      <td>8/8/2022</td>\n",
       "      <td>32</td>\n",
       "      <td>Tennis</td>\n",
       "      <td>WTA</td>\n",
       "      <td>Female</td>\n",
       "      <td>Live</td>\n",
       "      <td>Total</td>\n",
       "      <td>erik</td>\n",
       "      <td>-110</td>\n",
       "      <td>L</td>\n",
       "      <td>Lys Rakhimova over 22.5</td>\n",
       "      <td>2</td>\n",
       "      <td>$12.50</td>\n",
       "      <td>-$12.50</td>\n",
       "      <td>2.02%</td>\n",
       "    </tr>\n",
       "    <tr>\n",
       "      <th>12</th>\n",
       "      <td>8/8/2022</td>\n",
       "      <td>32</td>\n",
       "      <td>Basketball</td>\n",
       "      <td>WNBA</td>\n",
       "      <td>Female</td>\n",
       "      <td>Full</td>\n",
       "      <td>Total</td>\n",
       "      <td>erik</td>\n",
       "      <td>-110</td>\n",
       "      <td>W</td>\n",
       "      <td>Liberty Wings over 161.5</td>\n",
       "      <td>3</td>\n",
       "      <td>$11.00</td>\n",
       "      <td>$10.00</td>\n",
       "      <td>1.78%</td>\n",
       "    </tr>\n",
       "    <tr>\n",
       "      <th>13</th>\n",
       "      <td>8/8/2022</td>\n",
       "      <td>32</td>\n",
       "      <td>Tennis</td>\n",
       "      <td>WTA</td>\n",
       "      <td>Male</td>\n",
       "      <td>Full</td>\n",
       "      <td>Moneyline</td>\n",
       "      <td>erik</td>\n",
       "      <td>-125</td>\n",
       "      <td>L</td>\n",
       "      <td>Zhu ML</td>\n",
       "      <td>1</td>\n",
       "      <td>$10.00</td>\n",
       "      <td>-$10.00</td>\n",
       "      <td>1.62%</td>\n",
       "    </tr>\n",
       "    <tr>\n",
       "      <th>14</th>\n",
       "      <td>8/8/2022</td>\n",
       "      <td>32</td>\n",
       "      <td>Soccer</td>\n",
       "      <td>Argentina</td>\n",
       "      <td>Male</td>\n",
       "      <td>Full</td>\n",
       "      <td>Total</td>\n",
       "      <td>erik</td>\n",
       "      <td>-125</td>\n",
       "      <td>W</td>\n",
       "      <td>Tigre Rosario over 2.5</td>\n",
       "      <td>4</td>\n",
       "      <td>$11.00</td>\n",
       "      <td>$10.00</td>\n",
       "      <td>1.78%</td>\n",
       "    </tr>\n",
       "    <tr>\n",
       "      <th>15</th>\n",
       "      <td>8/8/2022</td>\n",
       "      <td>32</td>\n",
       "      <td>Soccer</td>\n",
       "      <td>Turkey</td>\n",
       "      <td>Male</td>\n",
       "      <td>Full</td>\n",
       "      <td>Total</td>\n",
       "      <td>erik</td>\n",
       "      <td>-125</td>\n",
       "      <td>W</td>\n",
       "      <td>Baskaeshir Kasimpasa over 2.5</td>\n",
       "      <td>3</td>\n",
       "      <td>$13.00</td>\n",
       "      <td>$10.00</td>\n",
       "      <td>2.10%</td>\n",
       "    </tr>\n",
       "    <tr>\n",
       "      <th>16</th>\n",
       "      <td>8/1/2022</td>\n",
       "      <td>31</td>\n",
       "      <td>Soccer</td>\n",
       "      <td>Mexico</td>\n",
       "      <td>Male</td>\n",
       "      <td>Full</td>\n",
       "      <td>Total</td>\n",
       "      <td>erik</td>\n",
       "      <td>-125</td>\n",
       "      <td>L</td>\n",
       "      <td>Pachuca Tigre over 2.25</td>\n",
       "      <td>2</td>\n",
       "      <td>$12.50</td>\n",
       "      <td>-$6.00</td>\n",
       "      <td>2.02%</td>\n",
       "    </tr>\n",
       "    <tr>\n",
       "      <th>17</th>\n",
       "      <td>8/1/2022</td>\n",
       "      <td>31</td>\n",
       "      <td>Basketball</td>\n",
       "      <td>WNBA</td>\n",
       "      <td>Female</td>\n",
       "      <td>Full</td>\n",
       "      <td>Total</td>\n",
       "      <td>erik</td>\n",
       "      <td>-110</td>\n",
       "      <td>L</td>\n",
       "      <td>Mystics -10</td>\n",
       "      <td>1</td>\n",
       "      <td>$11.00</td>\n",
       "      <td>-$11.00</td>\n",
       "      <td>1.78%</td>\n",
       "    </tr>\n",
       "    <tr>\n",
       "      <th>18</th>\n",
       "      <td>8/1/2022</td>\n",
       "      <td>31</td>\n",
       "      <td>Basketball</td>\n",
       "      <td>WNBA</td>\n",
       "      <td>Female</td>\n",
       "      <td>Live</td>\n",
       "      <td>Total</td>\n",
       "      <td>erik</td>\n",
       "      <td>-110</td>\n",
       "      <td>L</td>\n",
       "      <td>Sun Sky under 82</td>\n",
       "      <td>2</td>\n",
       "      <td>$11.00</td>\n",
       "      <td>-$11.00</td>\n",
       "      <td>1.78%</td>\n",
       "    </tr>\n",
       "    <tr>\n",
       "      <th>19</th>\n",
       "      <td>8/1/2022</td>\n",
       "      <td>31</td>\n",
       "      <td>Soccer</td>\n",
       "      <td>Turkey</td>\n",
       "      <td>Male</td>\n",
       "      <td>Full</td>\n",
       "      <td>Total</td>\n",
       "      <td>druff</td>\n",
       "      <td>-125</td>\n",
       "      <td>W</td>\n",
       "      <td>Demirspor Girespor over 2.5</td>\n",
       "      <td>4</td>\n",
       "      <td>$12.50</td>\n",
       "      <td>$10.00</td>\n",
       "      <td>2.02%</td>\n",
       "    </tr>\n",
       "    <tr>\n",
       "      <th>20</th>\n",
       "      <td>8/1/2022</td>\n",
       "      <td>31</td>\n",
       "      <td>Soccer</td>\n",
       "      <td>Belgium</td>\n",
       "      <td>Male</td>\n",
       "      <td>Full</td>\n",
       "      <td>Total</td>\n",
       "      <td>mrfootybets</td>\n",
       "      <td>-120</td>\n",
       "      <td>W</td>\n",
       "      <td>Anderlecht Seraing over 3</td>\n",
       "      <td>4</td>\n",
       "      <td>$18.00</td>\n",
       "      <td>$15.00</td>\n",
       "      <td>2.91%</td>\n",
       "    </tr>\n",
       "    <tr>\n",
       "      <th>21</th>\n",
       "      <td>8/1/2022</td>\n",
       "      <td>31</td>\n",
       "      <td>Soccer</td>\n",
       "      <td>England</td>\n",
       "      <td>Male</td>\n",
       "      <td>Full</td>\n",
       "      <td>Spread</td>\n",
       "      <td>hucapper</td>\n",
       "      <td>-125</td>\n",
       "      <td>W</td>\n",
       "      <td>Man City -1.5</td>\n",
       "      <td>3</td>\n",
       "      <td>$11.00</td>\n",
       "      <td>$10.00</td>\n",
       "      <td>1.78%</td>\n",
       "    </tr>\n",
       "    <tr>\n",
       "      <th>22</th>\n",
       "      <td>8/1/2022</td>\n",
       "      <td>31</td>\n",
       "      <td>Soccer</td>\n",
       "      <td>France</td>\n",
       "      <td>Male</td>\n",
       "      <td>Full</td>\n",
       "      <td>Total</td>\n",
       "      <td>druff</td>\n",
       "      <td>-125</td>\n",
       "      <td>P</td>\n",
       "      <td>Nantes PK</td>\n",
       "      <td>NA</td>\n",
       "      <td>$11.00</td>\n",
       "      <td>$0.00</td>\n",
       "      <td>1.78%</td>\n",
       "    </tr>\n",
       "    <tr>\n",
       "      <th>23</th>\n",
       "      <td>8/1/2022</td>\n",
       "      <td>31</td>\n",
       "      <td>Soccer</td>\n",
       "      <td>Germany</td>\n",
       "      <td>Male</td>\n",
       "      <td>Full</td>\n",
       "      <td>Total</td>\n",
       "      <td>druff</td>\n",
       "      <td>-125</td>\n",
       "      <td>L</td>\n",
       "      <td>Darmstadt Braun over 2.75</td>\n",
       "      <td>1</td>\n",
       "      <td>$11.00</td>\n",
       "      <td>-$11.00</td>\n",
       "      <td>1.78%</td>\n",
       "    </tr>\n",
       "    <tr>\n",
       "      <th>24</th>\n",
       "      <td>8/1/2022</td>\n",
       "      <td>31</td>\n",
       "      <td>Football</td>\n",
       "      <td>CFL</td>\n",
       "      <td>Male</td>\n",
       "      <td>Full</td>\n",
       "      <td>Total</td>\n",
       "      <td>erik</td>\n",
       "      <td>-110</td>\n",
       "      <td>W</td>\n",
       "      <td>Toronto Hamilton over 45</td>\n",
       "      <td>2</td>\n",
       "      <td>$11.00</td>\n",
       "      <td>$10.00</td>\n",
       "      <td>1.78%</td>\n",
       "    </tr>\n",
       "    <tr>\n",
       "      <th>25</th>\n",
       "      <td>8/1/2022</td>\n",
       "      <td>31</td>\n",
       "      <td>Soccer</td>\n",
       "      <td>MLS</td>\n",
       "      <td>Male</td>\n",
       "      <td>Full</td>\n",
       "      <td>Spread</td>\n",
       "      <td>druff</td>\n",
       "      <td>-125</td>\n",
       "      <td>W</td>\n",
       "      <td>Toronto Nashville over 2.75</td>\n",
       "      <td>4</td>\n",
       "      <td>$12.00</td>\n",
       "      <td>$10.00</td>\n",
       "      <td>1.94%</td>\n",
       "    </tr>\n",
       "    <tr>\n",
       "      <th>26</th>\n",
       "      <td>8/1/2022</td>\n",
       "      <td>31</td>\n",
       "      <td>Soccer</td>\n",
       "      <td>Mexico</td>\n",
       "      <td>Male</td>\n",
       "      <td>Full</td>\n",
       "      <td>Spread</td>\n",
       "      <td>druff</td>\n",
       "      <td>-125</td>\n",
       "      <td>W</td>\n",
       "      <td>Leon Monterry over 2.5</td>\n",
       "      <td>4</td>\n",
       "      <td>$13.00</td>\n",
       "      <td>$10.00</td>\n",
       "      <td>2.10%</td>\n",
       "    </tr>\n",
       "    <tr>\n",
       "      <th>27</th>\n",
       "      <td>8/1/2022</td>\n",
       "      <td>31</td>\n",
       "      <td>Soccer</td>\n",
       "      <td>France</td>\n",
       "      <td>Male</td>\n",
       "      <td>Full</td>\n",
       "      <td>Spread</td>\n",
       "      <td>druff</td>\n",
       "      <td>-125</td>\n",
       "      <td>W</td>\n",
       "      <td>PSG -1.75</td>\n",
       "      <td>4</td>\n",
       "      <td>$12.50</td>\n",
       "      <td>$10.00</td>\n",
       "      <td>2.02%</td>\n",
       "    </tr>\n",
       "    <tr>\n",
       "      <th>28</th>\n",
       "      <td>8/1/2022</td>\n",
       "      <td>31</td>\n",
       "      <td>Tennis</td>\n",
       "      <td>WTA</td>\n",
       "      <td>Female</td>\n",
       "      <td>Full</td>\n",
       "      <td>Moneyline</td>\n",
       "      <td>erik</td>\n",
       "      <td>100</td>\n",
       "      <td>L</td>\n",
       "      <td>Gavriola ML</td>\n",
       "      <td>2</td>\n",
       "      <td>$11.00</td>\n",
       "      <td>-$10.00</td>\n",
       "      <td>1.78%</td>\n",
       "    </tr>\n",
       "    <tr>\n",
       "      <th>29</th>\n",
       "      <td>8/1/2022</td>\n",
       "      <td>31</td>\n",
       "      <td>Tennis</td>\n",
       "      <td>ATP</td>\n",
       "      <td>Male</td>\n",
       "      <td>Full</td>\n",
       "      <td>Total</td>\n",
       "      <td>erik</td>\n",
       "      <td>100</td>\n",
       "      <td>L</td>\n",
       "      <td>Daniel Draxl over 18.5</td>\n",
       "      <td>2</td>\n",
       "      <td>$11.00</td>\n",
       "      <td>-$11.00</td>\n",
       "      <td>1.78%</td>\n",
       "    </tr>\n",
       "    <tr>\n",
       "      <th>30</th>\n",
       "      <td>8/1/2022</td>\n",
       "      <td>31</td>\n",
       "      <td>Baseball</td>\n",
       "      <td>MLB</td>\n",
       "      <td>Male</td>\n",
       "      <td>Full</td>\n",
       "      <td>Prop</td>\n",
       "      <td>kim</td>\n",
       "      <td>100</td>\n",
       "      <td>L</td>\n",
       "      <td>Duggar over 4</td>\n",
       "      <td>2</td>\n",
       "      <td>$10.00</td>\n",
       "      <td>-$10.00</td>\n",
       "      <td>1.62%</td>\n",
       "    </tr>\n",
       "    <tr>\n",
       "      <th>31</th>\n",
       "      <td>8/1/2022</td>\n",
       "      <td>31</td>\n",
       "      <td>Tennis</td>\n",
       "      <td>WTA</td>\n",
       "      <td>Female</td>\n",
       "      <td>Full</td>\n",
       "      <td>Moneyline</td>\n",
       "      <td>druff</td>\n",
       "      <td>-125</td>\n",
       "      <td>W</td>\n",
       "      <td>Samsanova ML</td>\n",
       "      <td>3</td>\n",
       "      <td>$10.00</td>\n",
       "      <td>$10.00</td>\n",
       "      <td>1.62%</td>\n",
       "    </tr>\n",
       "    <tr>\n",
       "      <th>32</th>\n",
       "      <td>8/1/2022</td>\n",
       "      <td>31</td>\n",
       "      <td>Basketball</td>\n",
       "      <td>WNBA</td>\n",
       "      <td>Female</td>\n",
       "      <td>Full</td>\n",
       "      <td>Total</td>\n",
       "      <td>erik</td>\n",
       "      <td>-110</td>\n",
       "      <td>W</td>\n",
       "      <td>Sparks Dream over 157</td>\n",
       "      <td>4</td>\n",
       "      <td>$11.00</td>\n",
       "      <td>$10.00</td>\n",
       "      <td>1.78%</td>\n",
       "    </tr>\n",
       "    <tr>\n",
       "      <th>33</th>\n",
       "      <td>8/1/2022</td>\n",
       "      <td>31</td>\n",
       "      <td>Basketball</td>\n",
       "      <td>WNBA</td>\n",
       "      <td>Female</td>\n",
       "      <td>Full</td>\n",
       "      <td>Total</td>\n",
       "      <td>erik</td>\n",
       "      <td>-110</td>\n",
       "      <td>W</td>\n",
       "      <td>Sky Mystics over 160</td>\n",
       "      <td>4</td>\n",
       "      <td>$11.00</td>\n",
       "      <td>$10.00</td>\n",
       "      <td>1.78%</td>\n",
       "    </tr>\n",
       "    <tr>\n",
       "      <th>34</th>\n",
       "      <td>8/1/2022</td>\n",
       "      <td>31</td>\n",
       "      <td>Soccer</td>\n",
       "      <td>England</td>\n",
       "      <td>Male</td>\n",
       "      <td>Live</td>\n",
       "      <td>Prop</td>\n",
       "      <td>erik</td>\n",
       "      <td>-125</td>\n",
       "      <td>L</td>\n",
       "      <td>White over 65 passes</td>\n",
       "      <td>1</td>\n",
       "      <td>$11.00</td>\n",
       "      <td>-$11.00</td>\n",
       "      <td>1.78%</td>\n",
       "    </tr>\n",
       "    <tr>\n",
       "      <th>35</th>\n",
       "      <td>8/1/2022</td>\n",
       "      <td>31</td>\n",
       "      <td>Tennis</td>\n",
       "      <td>WTA</td>\n",
       "      <td>Female</td>\n",
       "      <td>Full</td>\n",
       "      <td>Spread</td>\n",
       "      <td>druff</td>\n",
       "      <td>-125</td>\n",
       "      <td>P</td>\n",
       "      <td>Azarenka -5</td>\n",
       "      <td>NA</td>\n",
       "      <td>$10.00</td>\n",
       "      <td>$0.00</td>\n",
       "      <td>1.62%</td>\n",
       "    </tr>\n",
       "    <tr>\n",
       "      <th>36</th>\n",
       "      <td>8/1/2022</td>\n",
       "      <td>31</td>\n",
       "      <td>Baseball</td>\n",
       "      <td>Asia</td>\n",
       "      <td>Male</td>\n",
       "      <td>Full</td>\n",
       "      <td>Moneyline</td>\n",
       "      <td>kim</td>\n",
       "      <td>100</td>\n",
       "      <td>L</td>\n",
       "      <td>Chibu ML</td>\n",
       "      <td>2</td>\n",
       "      <td>$10.00</td>\n",
       "      <td>-$10.00</td>\n",
       "      <td>1.62%</td>\n",
       "    </tr>\n",
       "    <tr>\n",
       "      <th>37</th>\n",
       "      <td>8/1/2022</td>\n",
       "      <td>31</td>\n",
       "      <td>Tennis</td>\n",
       "      <td>ATP</td>\n",
       "      <td>Male</td>\n",
       "      <td>Full</td>\n",
       "      <td>Total</td>\n",
       "      <td>druff</td>\n",
       "      <td>-125</td>\n",
       "      <td>P</td>\n",
       "      <td>Hass ML</td>\n",
       "      <td>NA</td>\n",
       "      <td>$10.00</td>\n",
       "      <td>$0.00</td>\n",
       "      <td>1.62%</td>\n",
       "    </tr>\n",
       "    <tr>\n",
       "      <th>38</th>\n",
       "      <td>8/1/2022</td>\n",
       "      <td>31</td>\n",
       "      <td>Soccer</td>\n",
       "      <td>Mexico</td>\n",
       "      <td>Male</td>\n",
       "      <td>Live</td>\n",
       "      <td>Total</td>\n",
       "      <td>erik</td>\n",
       "      <td>-125</td>\n",
       "      <td>W</td>\n",
       "      <td>Atlas Queretaro over 1</td>\n",
       "      <td>1</td>\n",
       "      <td>$13.00</td>\n",
       "      <td>$10.00</td>\n",
       "      <td>2.10%</td>\n",
       "    </tr>\n",
       "    <tr>\n",
       "      <th>39</th>\n",
       "      <td>8/1/2022</td>\n",
       "      <td>31</td>\n",
       "      <td>Football</td>\n",
       "      <td>NFL</td>\n",
       "      <td>Male</td>\n",
       "      <td>Full</td>\n",
       "      <td>Total</td>\n",
       "      <td>erik</td>\n",
       "      <td>-110</td>\n",
       "      <td>W</td>\n",
       "      <td>Raiders Jags over 34.5</td>\n",
       "      <td>2</td>\n",
       "      <td>$11.00</td>\n",
       "      <td>$10.00</td>\n",
       "      <td>1.78%</td>\n",
       "    </tr>\n",
       "    <tr>\n",
       "      <th>40</th>\n",
       "      <td>8/1/2022</td>\n",
       "      <td>31</td>\n",
       "      <td>Basketball</td>\n",
       "      <td>WNBA</td>\n",
       "      <td>Female</td>\n",
       "      <td>Full</td>\n",
       "      <td>Total</td>\n",
       "      <td>erik</td>\n",
       "      <td>-110</td>\n",
       "      <td>W</td>\n",
       "      <td>Mercury Sun under 164.5</td>\n",
       "      <td>4</td>\n",
       "      <td>$11.00</td>\n",
       "      <td>$10.00</td>\n",
       "      <td>1.78%</td>\n",
       "    </tr>\n",
       "    <tr>\n",
       "      <th>41</th>\n",
       "      <td>8/1/2022</td>\n",
       "      <td>31</td>\n",
       "      <td>Soccer</td>\n",
       "      <td>Norway</td>\n",
       "      <td>Male</td>\n",
       "      <td>Full</td>\n",
       "      <td>Total</td>\n",
       "      <td>druff</td>\n",
       "      <td>-125</td>\n",
       "      <td>L</td>\n",
       "      <td>Groroud Stjords over 3</td>\n",
       "      <td>1</td>\n",
       "      <td>$13.00</td>\n",
       "      <td>-$13.00</td>\n",
       "      <td>2.10%</td>\n",
       "    </tr>\n",
       "    <tr>\n",
       "      <th>42</th>\n",
       "      <td>8/1/2022</td>\n",
       "      <td>31</td>\n",
       "      <td>Basketball</td>\n",
       "      <td>WNBA</td>\n",
       "      <td>Female</td>\n",
       "      <td>Full</td>\n",
       "      <td>Total</td>\n",
       "      <td>erik</td>\n",
       "      <td>-110</td>\n",
       "      <td>W</td>\n",
       "      <td>Storm Lynx over 161</td>\n",
       "      <td>3</td>\n",
       "      <td>$11.00</td>\n",
       "      <td>$10.00</td>\n",
       "      <td>1.78%</td>\n",
       "    </tr>\n",
       "  </tbody>\n",
       "</table>\n",
       "</div>"
      ],
      "text/plain": [
       "        Date  Week       Sport     League  Gender Timing Type_of_Wager  \\\n",
       "0   8/8/2022    32      Soccer      Italy    Male   Full        Spread   \n",
       "1   8/8/2022    32      Soccer    Germany    Male   Full        Spread   \n",
       "2   8/8/2022    32    Football        NFL    Male   Full         Total   \n",
       "3   8/8/2022    32    Football        NFL    Male   Full        Spread   \n",
       "4   8/8/2022    32      Tennis        ATP  Female   Live         Total   \n",
       "5   8/8/2022    32    Football        NFL    Male   Full         Total   \n",
       "6   8/8/2022    32    Baseball        MLB    Male   Full         Total   \n",
       "7   8/8/2022    32  Basketball       WNBA  Female   Full         Total   \n",
       "8   8/8/2022    32    Baseball        MLB    Male   Full         Total   \n",
       "9   8/8/2022    32    Baseball        MLB    Male   Full         Total   \n",
       "10  8/8/2022    32      Soccer    England    Male   Live         Total   \n",
       "11  8/8/2022    32      Tennis        WTA  Female   Live         Total   \n",
       "12  8/8/2022    32  Basketball       WNBA  Female   Full         Total   \n",
       "13  8/8/2022    32      Tennis        WTA    Male   Full     Moneyline   \n",
       "14  8/8/2022    32      Soccer  Argentina    Male   Full         Total   \n",
       "15  8/8/2022    32      Soccer     Turkey    Male   Full         Total   \n",
       "16  8/1/2022    31      Soccer     Mexico    Male   Full         Total   \n",
       "17  8/1/2022    31  Basketball       WNBA  Female   Full         Total   \n",
       "18  8/1/2022    31  Basketball       WNBA  Female   Live         Total   \n",
       "19  8/1/2022    31      Soccer     Turkey    Male   Full         Total   \n",
       "20  8/1/2022    31      Soccer    Belgium    Male   Full         Total   \n",
       "21  8/1/2022    31      Soccer    England    Male   Full        Spread   \n",
       "22  8/1/2022    31      Soccer     France    Male   Full         Total   \n",
       "23  8/1/2022    31      Soccer    Germany    Male   Full         Total   \n",
       "24  8/1/2022    31    Football        CFL    Male   Full         Total   \n",
       "25  8/1/2022    31      Soccer        MLS    Male   Full        Spread   \n",
       "26  8/1/2022    31      Soccer     Mexico    Male   Full        Spread   \n",
       "27  8/1/2022    31      Soccer     France    Male   Full        Spread   \n",
       "28  8/1/2022    31      Tennis        WTA  Female   Full     Moneyline   \n",
       "29  8/1/2022    31      Tennis        ATP    Male   Full         Total   \n",
       "30  8/1/2022    31    Baseball        MLB    Male   Full          Prop   \n",
       "31  8/1/2022    31      Tennis        WTA  Female   Full     Moneyline   \n",
       "32  8/1/2022    31  Basketball       WNBA  Female   Full         Total   \n",
       "33  8/1/2022    31  Basketball       WNBA  Female   Full         Total   \n",
       "34  8/1/2022    31      Soccer    England    Male   Live          Prop   \n",
       "35  8/1/2022    31      Tennis        WTA  Female   Full        Spread   \n",
       "36  8/1/2022    31    Baseball       Asia    Male   Full     Moneyline   \n",
       "37  8/1/2022    31      Tennis        ATP    Male   Full         Total   \n",
       "38  8/1/2022    31      Soccer     Mexico    Male   Live         Total   \n",
       "39  8/1/2022    31    Football        NFL    Male   Full         Total   \n",
       "40  8/1/2022    31  Basketball       WNBA  Female   Full         Total   \n",
       "41  8/1/2022    31      Soccer     Norway    Male   Full         Total   \n",
       "42  8/1/2022    31  Basketball       WNBA  Female   Full         Total   \n",
       "\n",
       "        Twitter  Odds Outcome                   Game_Details Read     Bet  \\\n",
       "0          erik  -110       W                      Roma -.75    3  $13.00   \n",
       "1          adam  -110       L                Leverkusen -1.5    1  $12.50   \n",
       "2          adam  -110       L     Cardinals Bengals under 32    2  $11.00   \n",
       "3          adam  -110       L                      Eagles +2    2  $11.00   \n",
       "4          erik  -118       W   Vandewedghe Tauson over 28.5    2  $11.00   \n",
       "5          adam  -110       L         Ravens Titans under 31    2  $11.00   \n",
       "6          erik   100       W              Cubs Reds under 9    3  $12.50   \n",
       "7          erik  -110       W         Liberty Wings over 163    3  $11.00   \n",
       "8         gunit   100       W       Cubs Nationals under 7.5    4  $11.00   \n",
       "9         gunit   100       W        Pirates DBacks over 8.5    3  $11.50   \n",
       "10         erik  -125       W  Shrewsbury Carlisle over 2.25    4  $12.50   \n",
       "11         erik  -110       L        Lys Rakhimova over 22.5    2  $12.50   \n",
       "12         erik  -110       W       Liberty Wings over 161.5    3  $11.00   \n",
       "13         erik  -125       L                         Zhu ML    1  $10.00   \n",
       "14         erik  -125       W         Tigre Rosario over 2.5    4  $11.00   \n",
       "15         erik  -125       W  Baskaeshir Kasimpasa over 2.5    3  $13.00   \n",
       "16         erik  -125       L        Pachuca Tigre over 2.25    2  $12.50   \n",
       "17         erik  -110       L                    Mystics -10    1  $11.00   \n",
       "18         erik  -110       L               Sun Sky under 82    2  $11.00   \n",
       "19        druff  -125       W    Demirspor Girespor over 2.5    4  $12.50   \n",
       "20  mrfootybets  -120       W      Anderlecht Seraing over 3    4  $18.00   \n",
       "21     hucapper  -125       W                  Man City -1.5    3  $11.00   \n",
       "22        druff  -125       P                      Nantes PK   NA  $11.00   \n",
       "23        druff  -125       L      Darmstadt Braun over 2.75    1  $11.00   \n",
       "24         erik  -110       W       Toronto Hamilton over 45    2  $11.00   \n",
       "25        druff  -125       W    Toronto Nashville over 2.75    4  $12.00   \n",
       "26        druff  -125       W         Leon Monterry over 2.5    4  $13.00   \n",
       "27        druff  -125       W                      PSG -1.75    4  $12.50   \n",
       "28         erik   100       L                    Gavriola ML    2  $11.00   \n",
       "29         erik   100       L         Daniel Draxl over 18.5    2  $11.00   \n",
       "30          kim   100       L                  Duggar over 4    2  $10.00   \n",
       "31        druff  -125       W                   Samsanova ML    3  $10.00   \n",
       "32         erik  -110       W          Sparks Dream over 157    4  $11.00   \n",
       "33         erik  -110       W           Sky Mystics over 160    4  $11.00   \n",
       "34         erik  -125       L           White over 65 passes    1  $11.00   \n",
       "35        druff  -125       P                    Azarenka -5   NA  $10.00   \n",
       "36          kim   100       L                       Chibu ML    2  $10.00   \n",
       "37        druff  -125       P                        Hass ML   NA  $10.00   \n",
       "38         erik  -125       W         Atlas Queretaro over 1    1  $13.00   \n",
       "39         erik  -110       W         Raiders Jags over 34.5    2  $11.00   \n",
       "40         erik  -110       W        Mercury Sun under 164.5    4  $11.00   \n",
       "41        druff  -125       L         Groroud Stjords over 3    1  $13.00   \n",
       "42         erik  -110       W            Storm Lynx over 161    3  $11.00   \n",
       "\n",
       "   Win/Lose % of Bankroll  \n",
       "0     $5.00         2.10%  \n",
       "1   -$12.50         2.02%  \n",
       "2   -$11.00         1.78%  \n",
       "3   -$11.00         1.78%  \n",
       "4    $10.00         1.78%  \n",
       "5   -$11.00         1.78%  \n",
       "6    $10.00         2.02%  \n",
       "7    $10.00         1.78%  \n",
       "8    $10.00         1.78%  \n",
       "9    $10.00         1.86%  \n",
       "10   $10.00         2.02%  \n",
       "11  -$12.50         2.02%  \n",
       "12   $10.00         1.78%  \n",
       "13  -$10.00         1.62%  \n",
       "14   $10.00         1.78%  \n",
       "15   $10.00         2.10%  \n",
       "16   -$6.00         2.02%  \n",
       "17  -$11.00         1.78%  \n",
       "18  -$11.00         1.78%  \n",
       "19   $10.00         2.02%  \n",
       "20   $15.00         2.91%  \n",
       "21   $10.00         1.78%  \n",
       "22    $0.00         1.78%  \n",
       "23  -$11.00         1.78%  \n",
       "24   $10.00         1.78%  \n",
       "25   $10.00         1.94%  \n",
       "26   $10.00         2.10%  \n",
       "27   $10.00         2.02%  \n",
       "28  -$10.00         1.78%  \n",
       "29  -$11.00         1.78%  \n",
       "30  -$10.00         1.62%  \n",
       "31   $10.00         1.62%  \n",
       "32   $10.00         1.78%  \n",
       "33   $10.00         1.78%  \n",
       "34  -$11.00         1.78%  \n",
       "35    $0.00         1.62%  \n",
       "36  -$10.00         1.62%  \n",
       "37    $0.00         1.62%  \n",
       "38   $10.00         2.10%  \n",
       "39   $10.00         1.78%  \n",
       "40   $10.00         1.78%  \n",
       "41  -$13.00         2.10%  \n",
       "42   $10.00         1.78%  "
      ]
     },
     "execution_count": 91,
     "metadata": {},
     "output_type": "execute_result"
    }
   ],
   "source": [
    "df"
   ]
  },
  {
   "cell_type": "markdown",
   "metadata": {},
   "source": [
    "Dataframe Calculations"
   ]
  },
  {
   "cell_type": "markdown",
   "metadata": {},
   "source": [
    "###### Running Total"
   ]
  },
  {
   "cell_type": "code",
   "execution_count": 92,
   "metadata": {},
   "outputs": [],
   "source": [
    "df['Win/Lose']=df[\"Win/Lose\"].replace({'\\$':''}, regex = True)\n",
    "df['Win/Lose']=pd.to_numeric(df[\"Win/Lose\"])\n",
    "running_total=df['Win/Lose'].sum()"
   ]
  },
  {
   "cell_type": "markdown",
   "metadata": {},
   "source": [
    "###### Week Total"
   ]
  },
  {
   "cell_type": "code",
   "execution_count": 93,
   "metadata": {},
   "outputs": [],
   "source": [
    "t1 = datetime.datetime.now()\n",
    "current_week=t1.strftime(\"%U\")\n",
    "df['Week']=df['Week'].astype(str)\n",
    "weekly_sum=df[df.Week==current_week]['Win/Lose'].sum()"
   ]
  },
  {
   "cell_type": "markdown",
   "metadata": {},
   "source": [
    "Visualizations"
   ]
  },
  {
   "cell_type": "code",
   "execution_count": 94,
   "metadata": {},
   "outputs": [
    {
     "data": {
      "text/html": [
       "<div>\n",
       "<style scoped>\n",
       "    .dataframe tbody tr th:only-of-type {\n",
       "        vertical-align: middle;\n",
       "    }\n",
       "\n",
       "    .dataframe tbody tr th {\n",
       "        vertical-align: top;\n",
       "    }\n",
       "\n",
       "    .dataframe thead th {\n",
       "        text-align: right;\n",
       "    }\n",
       "</style>\n",
       "<table border=\"1\" class=\"dataframe\">\n",
       "  <thead>\n",
       "    <tr style=\"text-align: right;\">\n",
       "      <th></th>\n",
       "      <th>Date</th>\n",
       "      <th>Week</th>\n",
       "      <th>Sport</th>\n",
       "      <th>League</th>\n",
       "      <th>Gender</th>\n",
       "      <th>Timing</th>\n",
       "      <th>Type_of_Wager</th>\n",
       "      <th>Twitter</th>\n",
       "      <th>Odds</th>\n",
       "      <th>Outcome</th>\n",
       "      <th>Game_Details</th>\n",
       "      <th>Read</th>\n",
       "      <th>Bet</th>\n",
       "      <th>Win/Lose</th>\n",
       "      <th>% of Bankroll</th>\n",
       "    </tr>\n",
       "  </thead>\n",
       "  <tbody>\n",
       "    <tr>\n",
       "      <th>0</th>\n",
       "      <td>8/8/2022</td>\n",
       "      <td>32</td>\n",
       "      <td>Soccer</td>\n",
       "      <td>Italy</td>\n",
       "      <td>Male</td>\n",
       "      <td>Full</td>\n",
       "      <td>Spread</td>\n",
       "      <td>erik</td>\n",
       "      <td>-110</td>\n",
       "      <td>W</td>\n",
       "      <td>Roma -.75</td>\n",
       "      <td>3</td>\n",
       "      <td>$13.00</td>\n",
       "      <td>5.0</td>\n",
       "      <td>2.10%</td>\n",
       "    </tr>\n",
       "    <tr>\n",
       "      <th>1</th>\n",
       "      <td>8/8/2022</td>\n",
       "      <td>32</td>\n",
       "      <td>Soccer</td>\n",
       "      <td>Germany</td>\n",
       "      <td>Male</td>\n",
       "      <td>Full</td>\n",
       "      <td>Spread</td>\n",
       "      <td>adam</td>\n",
       "      <td>-110</td>\n",
       "      <td>L</td>\n",
       "      <td>Leverkusen -1.5</td>\n",
       "      <td>1</td>\n",
       "      <td>$12.50</td>\n",
       "      <td>-12.5</td>\n",
       "      <td>2.02%</td>\n",
       "    </tr>\n",
       "    <tr>\n",
       "      <th>2</th>\n",
       "      <td>8/8/2022</td>\n",
       "      <td>32</td>\n",
       "      <td>Football</td>\n",
       "      <td>NFL</td>\n",
       "      <td>Male</td>\n",
       "      <td>Full</td>\n",
       "      <td>Total</td>\n",
       "      <td>adam</td>\n",
       "      <td>-110</td>\n",
       "      <td>L</td>\n",
       "      <td>Cardinals Bengals under 32</td>\n",
       "      <td>2</td>\n",
       "      <td>$11.00</td>\n",
       "      <td>-11.0</td>\n",
       "      <td>1.78%</td>\n",
       "    </tr>\n",
       "    <tr>\n",
       "      <th>3</th>\n",
       "      <td>8/8/2022</td>\n",
       "      <td>32</td>\n",
       "      <td>Football</td>\n",
       "      <td>NFL</td>\n",
       "      <td>Male</td>\n",
       "      <td>Full</td>\n",
       "      <td>Spread</td>\n",
       "      <td>adam</td>\n",
       "      <td>-110</td>\n",
       "      <td>L</td>\n",
       "      <td>Eagles +2</td>\n",
       "      <td>2</td>\n",
       "      <td>$11.00</td>\n",
       "      <td>-11.0</td>\n",
       "      <td>1.78%</td>\n",
       "    </tr>\n",
       "    <tr>\n",
       "      <th>4</th>\n",
       "      <td>8/8/2022</td>\n",
       "      <td>32</td>\n",
       "      <td>Tennis</td>\n",
       "      <td>ATP</td>\n",
       "      <td>Female</td>\n",
       "      <td>Live</td>\n",
       "      <td>Total</td>\n",
       "      <td>erik</td>\n",
       "      <td>-118</td>\n",
       "      <td>W</td>\n",
       "      <td>Vandewedghe Tauson over 28.5</td>\n",
       "      <td>2</td>\n",
       "      <td>$11.00</td>\n",
       "      <td>10.0</td>\n",
       "      <td>1.78%</td>\n",
       "    </tr>\n",
       "  </tbody>\n",
       "</table>\n",
       "</div>"
      ],
      "text/plain": [
       "       Date Week     Sport   League  Gender Timing Type_of_Wager Twitter  \\\n",
       "0  8/8/2022   32    Soccer    Italy    Male   Full        Spread    erik   \n",
       "1  8/8/2022   32    Soccer  Germany    Male   Full        Spread    adam   \n",
       "2  8/8/2022   32  Football      NFL    Male   Full         Total    adam   \n",
       "3  8/8/2022   32  Football      NFL    Male   Full        Spread    adam   \n",
       "4  8/8/2022   32    Tennis      ATP  Female   Live         Total    erik   \n",
       "\n",
       "   Odds Outcome                  Game_Details Read     Bet  Win/Lose  \\\n",
       "0  -110       W                     Roma -.75    3  $13.00       5.0   \n",
       "1  -110       L               Leverkusen -1.5    1  $12.50     -12.5   \n",
       "2  -110       L    Cardinals Bengals under 32    2  $11.00     -11.0   \n",
       "3  -110       L                     Eagles +2    2  $11.00     -11.0   \n",
       "4  -118       W  Vandewedghe Tauson over 28.5    2  $11.00      10.0   \n",
       "\n",
       "  % of Bankroll  \n",
       "0         2.10%  \n",
       "1         2.02%  \n",
       "2         1.78%  \n",
       "3         1.78%  \n",
       "4         1.78%  "
      ]
     },
     "execution_count": 94,
     "metadata": {},
     "output_type": "execute_result"
    }
   ],
   "source": [
    "df.head()"
   ]
  },
  {
   "cell_type": "code",
   "execution_count": 114,
   "metadata": {},
   "outputs": [
    {
     "data": {
      "application/vnd.plotly.v1+json": {
       "config": {
        "plotlyServerURL": "https://plot.ly"
       },
       "data": [
        {
         "alignmentgroup": "True",
         "bingroup": "x",
         "histfunc": "sum",
         "hovertemplate": "Gender=Male<br>Sport=%{x}<br>sum of Win/Lose=%{y}<extra></extra>",
         "legendgroup": "Male",
         "marker": {
          "color": "#636efa",
          "pattern": {
           "shape": ""
          }
         },
         "name": "Male",
         "offsetgroup": "Male",
         "orientation": "v",
         "showlegend": true,
         "texttemplate": "%{value}",
         "type": "histogram",
         "x": [
          "Soccer",
          "Soccer",
          "Football",
          "Football",
          "Football",
          "Baseball",
          "Baseball",
          "Baseball",
          "Soccer",
          "Tennis",
          "Soccer",
          "Soccer",
          "Soccer",
          "Soccer",
          "Soccer",
          "Soccer",
          "Soccer",
          "Soccer",
          "Football",
          "Soccer",
          "Soccer",
          "Soccer",
          "Tennis",
          "Baseball",
          "Soccer",
          "Baseball",
          "Tennis",
          "Soccer",
          "Football",
          "Soccer"
         ],
         "xaxis": "x",
         "y": [
          5,
          -12.5,
          -11,
          -11,
          -11,
          10,
          10,
          10,
          10,
          -10,
          10,
          10,
          -6,
          10,
          15,
          10,
          0,
          -11,
          10,
          10,
          10,
          10,
          -11,
          -10,
          -11,
          -10,
          0,
          10,
          10,
          -13
         ],
         "yaxis": "y"
        },
        {
         "alignmentgroup": "True",
         "bingroup": "x",
         "histfunc": "sum",
         "hovertemplate": "Gender=Female<br>Sport=%{x}<br>sum of Win/Lose=%{y}<extra></extra>",
         "legendgroup": "Female",
         "marker": {
          "color": "#EF553B",
          "pattern": {
           "shape": ""
          }
         },
         "name": "Female",
         "offsetgroup": "Female",
         "orientation": "v",
         "showlegend": true,
         "texttemplate": "%{value}",
         "type": "histogram",
         "x": [
          "Tennis",
          "Basketball",
          "Tennis",
          "Basketball",
          "Basketball",
          "Basketball",
          "Tennis",
          "Tennis",
          "Basketball",
          "Basketball",
          "Tennis",
          "Basketball",
          "Basketball"
         ],
         "xaxis": "x",
         "y": [
          10,
          10,
          -12.5,
          10,
          -11,
          -11,
          -10,
          10,
          10,
          10,
          0,
          10,
          10
         ],
         "yaxis": "y"
        }
       ],
       "layout": {
        "barmode": "group",
        "legend": {
         "title": {
          "text": "Gender"
         },
         "tracegroupgap": 0
        },
        "template": {
         "data": {
          "bar": [
           {
            "error_x": {
             "color": "#2a3f5f"
            },
            "error_y": {
             "color": "#2a3f5f"
            },
            "marker": {
             "line": {
              "color": "#E5ECF6",
              "width": 0.5
             },
             "pattern": {
              "fillmode": "overlay",
              "size": 10,
              "solidity": 0.2
             }
            },
            "type": "bar"
           }
          ],
          "barpolar": [
           {
            "marker": {
             "line": {
              "color": "#E5ECF6",
              "width": 0.5
             },
             "pattern": {
              "fillmode": "overlay",
              "size": 10,
              "solidity": 0.2
             }
            },
            "type": "barpolar"
           }
          ],
          "carpet": [
           {
            "aaxis": {
             "endlinecolor": "#2a3f5f",
             "gridcolor": "white",
             "linecolor": "white",
             "minorgridcolor": "white",
             "startlinecolor": "#2a3f5f"
            },
            "baxis": {
             "endlinecolor": "#2a3f5f",
             "gridcolor": "white",
             "linecolor": "white",
             "minorgridcolor": "white",
             "startlinecolor": "#2a3f5f"
            },
            "type": "carpet"
           }
          ],
          "choropleth": [
           {
            "colorbar": {
             "outlinewidth": 0,
             "ticks": ""
            },
            "type": "choropleth"
           }
          ],
          "contour": [
           {
            "colorbar": {
             "outlinewidth": 0,
             "ticks": ""
            },
            "colorscale": [
             [
              0,
              "#0d0887"
             ],
             [
              0.1111111111111111,
              "#46039f"
             ],
             [
              0.2222222222222222,
              "#7201a8"
             ],
             [
              0.3333333333333333,
              "#9c179e"
             ],
             [
              0.4444444444444444,
              "#bd3786"
             ],
             [
              0.5555555555555556,
              "#d8576b"
             ],
             [
              0.6666666666666666,
              "#ed7953"
             ],
             [
              0.7777777777777778,
              "#fb9f3a"
             ],
             [
              0.8888888888888888,
              "#fdca26"
             ],
             [
              1,
              "#f0f921"
             ]
            ],
            "type": "contour"
           }
          ],
          "contourcarpet": [
           {
            "colorbar": {
             "outlinewidth": 0,
             "ticks": ""
            },
            "type": "contourcarpet"
           }
          ],
          "heatmap": [
           {
            "colorbar": {
             "outlinewidth": 0,
             "ticks": ""
            },
            "colorscale": [
             [
              0,
              "#0d0887"
             ],
             [
              0.1111111111111111,
              "#46039f"
             ],
             [
              0.2222222222222222,
              "#7201a8"
             ],
             [
              0.3333333333333333,
              "#9c179e"
             ],
             [
              0.4444444444444444,
              "#bd3786"
             ],
             [
              0.5555555555555556,
              "#d8576b"
             ],
             [
              0.6666666666666666,
              "#ed7953"
             ],
             [
              0.7777777777777778,
              "#fb9f3a"
             ],
             [
              0.8888888888888888,
              "#fdca26"
             ],
             [
              1,
              "#f0f921"
             ]
            ],
            "type": "heatmap"
           }
          ],
          "heatmapgl": [
           {
            "colorbar": {
             "outlinewidth": 0,
             "ticks": ""
            },
            "colorscale": [
             [
              0,
              "#0d0887"
             ],
             [
              0.1111111111111111,
              "#46039f"
             ],
             [
              0.2222222222222222,
              "#7201a8"
             ],
             [
              0.3333333333333333,
              "#9c179e"
             ],
             [
              0.4444444444444444,
              "#bd3786"
             ],
             [
              0.5555555555555556,
              "#d8576b"
             ],
             [
              0.6666666666666666,
              "#ed7953"
             ],
             [
              0.7777777777777778,
              "#fb9f3a"
             ],
             [
              0.8888888888888888,
              "#fdca26"
             ],
             [
              1,
              "#f0f921"
             ]
            ],
            "type": "heatmapgl"
           }
          ],
          "histogram": [
           {
            "marker": {
             "pattern": {
              "fillmode": "overlay",
              "size": 10,
              "solidity": 0.2
             }
            },
            "type": "histogram"
           }
          ],
          "histogram2d": [
           {
            "colorbar": {
             "outlinewidth": 0,
             "ticks": ""
            },
            "colorscale": [
             [
              0,
              "#0d0887"
             ],
             [
              0.1111111111111111,
              "#46039f"
             ],
             [
              0.2222222222222222,
              "#7201a8"
             ],
             [
              0.3333333333333333,
              "#9c179e"
             ],
             [
              0.4444444444444444,
              "#bd3786"
             ],
             [
              0.5555555555555556,
              "#d8576b"
             ],
             [
              0.6666666666666666,
              "#ed7953"
             ],
             [
              0.7777777777777778,
              "#fb9f3a"
             ],
             [
              0.8888888888888888,
              "#fdca26"
             ],
             [
              1,
              "#f0f921"
             ]
            ],
            "type": "histogram2d"
           }
          ],
          "histogram2dcontour": [
           {
            "colorbar": {
             "outlinewidth": 0,
             "ticks": ""
            },
            "colorscale": [
             [
              0,
              "#0d0887"
             ],
             [
              0.1111111111111111,
              "#46039f"
             ],
             [
              0.2222222222222222,
              "#7201a8"
             ],
             [
              0.3333333333333333,
              "#9c179e"
             ],
             [
              0.4444444444444444,
              "#bd3786"
             ],
             [
              0.5555555555555556,
              "#d8576b"
             ],
             [
              0.6666666666666666,
              "#ed7953"
             ],
             [
              0.7777777777777778,
              "#fb9f3a"
             ],
             [
              0.8888888888888888,
              "#fdca26"
             ],
             [
              1,
              "#f0f921"
             ]
            ],
            "type": "histogram2dcontour"
           }
          ],
          "mesh3d": [
           {
            "colorbar": {
             "outlinewidth": 0,
             "ticks": ""
            },
            "type": "mesh3d"
           }
          ],
          "parcoords": [
           {
            "line": {
             "colorbar": {
              "outlinewidth": 0,
              "ticks": ""
             }
            },
            "type": "parcoords"
           }
          ],
          "pie": [
           {
            "automargin": true,
            "type": "pie"
           }
          ],
          "scatter": [
           {
            "marker": {
             "colorbar": {
              "outlinewidth": 0,
              "ticks": ""
             }
            },
            "type": "scatter"
           }
          ],
          "scatter3d": [
           {
            "line": {
             "colorbar": {
              "outlinewidth": 0,
              "ticks": ""
             }
            },
            "marker": {
             "colorbar": {
              "outlinewidth": 0,
              "ticks": ""
             }
            },
            "type": "scatter3d"
           }
          ],
          "scattercarpet": [
           {
            "marker": {
             "colorbar": {
              "outlinewidth": 0,
              "ticks": ""
             }
            },
            "type": "scattercarpet"
           }
          ],
          "scattergeo": [
           {
            "marker": {
             "colorbar": {
              "outlinewidth": 0,
              "ticks": ""
             }
            },
            "type": "scattergeo"
           }
          ],
          "scattergl": [
           {
            "marker": {
             "colorbar": {
              "outlinewidth": 0,
              "ticks": ""
             }
            },
            "type": "scattergl"
           }
          ],
          "scattermapbox": [
           {
            "marker": {
             "colorbar": {
              "outlinewidth": 0,
              "ticks": ""
             }
            },
            "type": "scattermapbox"
           }
          ],
          "scatterpolar": [
           {
            "marker": {
             "colorbar": {
              "outlinewidth": 0,
              "ticks": ""
             }
            },
            "type": "scatterpolar"
           }
          ],
          "scatterpolargl": [
           {
            "marker": {
             "colorbar": {
              "outlinewidth": 0,
              "ticks": ""
             }
            },
            "type": "scatterpolargl"
           }
          ],
          "scatterternary": [
           {
            "marker": {
             "colorbar": {
              "outlinewidth": 0,
              "ticks": ""
             }
            },
            "type": "scatterternary"
           }
          ],
          "surface": [
           {
            "colorbar": {
             "outlinewidth": 0,
             "ticks": ""
            },
            "colorscale": [
             [
              0,
              "#0d0887"
             ],
             [
              0.1111111111111111,
              "#46039f"
             ],
             [
              0.2222222222222222,
              "#7201a8"
             ],
             [
              0.3333333333333333,
              "#9c179e"
             ],
             [
              0.4444444444444444,
              "#bd3786"
             ],
             [
              0.5555555555555556,
              "#d8576b"
             ],
             [
              0.6666666666666666,
              "#ed7953"
             ],
             [
              0.7777777777777778,
              "#fb9f3a"
             ],
             [
              0.8888888888888888,
              "#fdca26"
             ],
             [
              1,
              "#f0f921"
             ]
            ],
            "type": "surface"
           }
          ],
          "table": [
           {
            "cells": {
             "fill": {
              "color": "#EBF0F8"
             },
             "line": {
              "color": "white"
             }
            },
            "header": {
             "fill": {
              "color": "#C8D4E3"
             },
             "line": {
              "color": "white"
             }
            },
            "type": "table"
           }
          ]
         },
         "layout": {
          "annotationdefaults": {
           "arrowcolor": "#2a3f5f",
           "arrowhead": 0,
           "arrowwidth": 1
          },
          "autotypenumbers": "strict",
          "coloraxis": {
           "colorbar": {
            "outlinewidth": 0,
            "ticks": ""
           }
          },
          "colorscale": {
           "diverging": [
            [
             0,
             "#8e0152"
            ],
            [
             0.1,
             "#c51b7d"
            ],
            [
             0.2,
             "#de77ae"
            ],
            [
             0.3,
             "#f1b6da"
            ],
            [
             0.4,
             "#fde0ef"
            ],
            [
             0.5,
             "#f7f7f7"
            ],
            [
             0.6,
             "#e6f5d0"
            ],
            [
             0.7,
             "#b8e186"
            ],
            [
             0.8,
             "#7fbc41"
            ],
            [
             0.9,
             "#4d9221"
            ],
            [
             1,
             "#276419"
            ]
           ],
           "sequential": [
            [
             0,
             "#0d0887"
            ],
            [
             0.1111111111111111,
             "#46039f"
            ],
            [
             0.2222222222222222,
             "#7201a8"
            ],
            [
             0.3333333333333333,
             "#9c179e"
            ],
            [
             0.4444444444444444,
             "#bd3786"
            ],
            [
             0.5555555555555556,
             "#d8576b"
            ],
            [
             0.6666666666666666,
             "#ed7953"
            ],
            [
             0.7777777777777778,
             "#fb9f3a"
            ],
            [
             0.8888888888888888,
             "#fdca26"
            ],
            [
             1,
             "#f0f921"
            ]
           ],
           "sequentialminus": [
            [
             0,
             "#0d0887"
            ],
            [
             0.1111111111111111,
             "#46039f"
            ],
            [
             0.2222222222222222,
             "#7201a8"
            ],
            [
             0.3333333333333333,
             "#9c179e"
            ],
            [
             0.4444444444444444,
             "#bd3786"
            ],
            [
             0.5555555555555556,
             "#d8576b"
            ],
            [
             0.6666666666666666,
             "#ed7953"
            ],
            [
             0.7777777777777778,
             "#fb9f3a"
            ],
            [
             0.8888888888888888,
             "#fdca26"
            ],
            [
             1,
             "#f0f921"
            ]
           ]
          },
          "colorway": [
           "#636efa",
           "#EF553B",
           "#00cc96",
           "#ab63fa",
           "#FFA15A",
           "#19d3f3",
           "#FF6692",
           "#B6E880",
           "#FF97FF",
           "#FECB52"
          ],
          "font": {
           "color": "#2a3f5f"
          },
          "geo": {
           "bgcolor": "white",
           "lakecolor": "white",
           "landcolor": "#E5ECF6",
           "showlakes": true,
           "showland": true,
           "subunitcolor": "white"
          },
          "hoverlabel": {
           "align": "left"
          },
          "hovermode": "closest",
          "mapbox": {
           "style": "light"
          },
          "paper_bgcolor": "white",
          "plot_bgcolor": "#E5ECF6",
          "polar": {
           "angularaxis": {
            "gridcolor": "white",
            "linecolor": "white",
            "ticks": ""
           },
           "bgcolor": "#E5ECF6",
           "radialaxis": {
            "gridcolor": "white",
            "linecolor": "white",
            "ticks": ""
           }
          },
          "scene": {
           "xaxis": {
            "backgroundcolor": "#E5ECF6",
            "gridcolor": "white",
            "gridwidth": 2,
            "linecolor": "white",
            "showbackground": true,
            "ticks": "",
            "zerolinecolor": "white"
           },
           "yaxis": {
            "backgroundcolor": "#E5ECF6",
            "gridcolor": "white",
            "gridwidth": 2,
            "linecolor": "white",
            "showbackground": true,
            "ticks": "",
            "zerolinecolor": "white"
           },
           "zaxis": {
            "backgroundcolor": "#E5ECF6",
            "gridcolor": "white",
            "gridwidth": 2,
            "linecolor": "white",
            "showbackground": true,
            "ticks": "",
            "zerolinecolor": "white"
           }
          },
          "shapedefaults": {
           "line": {
            "color": "#2a3f5f"
           }
          },
          "ternary": {
           "aaxis": {
            "gridcolor": "white",
            "linecolor": "white",
            "ticks": ""
           },
           "baxis": {
            "gridcolor": "white",
            "linecolor": "white",
            "ticks": ""
           },
           "bgcolor": "#E5ECF6",
           "caxis": {
            "gridcolor": "white",
            "linecolor": "white",
            "ticks": ""
           }
          },
          "title": {
           "x": 0.05
          },
          "xaxis": {
           "automargin": true,
           "gridcolor": "white",
           "linecolor": "white",
           "ticks": "",
           "title": {
            "standoff": 15
           },
           "zerolinecolor": "white",
           "zerolinewidth": 2
          },
          "yaxis": {
           "automargin": true,
           "gridcolor": "white",
           "linecolor": "white",
           "ticks": "",
           "title": {
            "standoff": 15
           },
           "zerolinecolor": "white",
           "zerolinewidth": 2
          }
         }
        },
        "title": {
         "text": "Historical Record by Sport/Gender"
        },
        "xaxis": {
         "anchor": "y",
         "categoryorder": "total descending",
         "domain": [
          0,
          1
         ],
         "title": {
          "text": "Sport"
         },
         "type": "category"
        },
        "yaxis": {
         "anchor": "x",
         "domain": [
          0,
          1
         ],
         "title": {
          "text": "Dollars ($)"
         }
        }
       }
      }
     },
     "metadata": {},
     "output_type": "display_data"
    }
   ],
   "source": [
    "sport = px.histogram(df, \n",
    "            x=\"Sport\", \n",
    "            y=\"Win/Lose\", \n",
    "            color=\"Gender\", \n",
    "            barmode=\"group\",\n",
    "            title=f\"Historical Record by Sport/Gender\"\n",
    "            ,histfunc=\"sum\"\n",
    "            ,text_auto=True)\n",
    "\n",
    "sport.update_layout(yaxis_title=\"Dollars ($)\")\n",
    "sport.update_xaxes(type='category')\n",
    "sport.update_xaxes(categoryorder='total descending')\n",
    "sport.update_layout(xaxis={'categoryorder':'total descending'}) # add only this line\n",
    "\n",
    "sport.show()"
   ]
  },
  {
   "cell_type": "code",
   "execution_count": 113,
   "metadata": {},
   "outputs": [
    {
     "data": {
      "application/vnd.plotly.v1+json": {
       "config": {
        "plotlyServerURL": "https://plot.ly"
       },
       "data": [
        {
         "alignmentgroup": "True",
         "bingroup": "x",
         "histfunc": "sum",
         "hovertemplate": "Sport=Soccer<br>Week=%{x}<br>sum of Win/Lose=%{y}<extra></extra>",
         "legendgroup": "Soccer",
         "marker": {
          "color": "#636efa",
          "pattern": {
           "shape": ""
          }
         },
         "name": "Soccer",
         "offsetgroup": "Soccer",
         "orientation": "v",
         "showlegend": true,
         "texttemplate": "%{value}",
         "type": "histogram",
         "x": [
          "32",
          "32",
          "32",
          "32",
          "32",
          "31",
          "31",
          "31",
          "31",
          "31",
          "31",
          "31",
          "31",
          "31",
          "31",
          "31",
          "31"
         ],
         "xaxis": "x",
         "y": [
          5,
          -12.5,
          10,
          10,
          10,
          -6,
          10,
          15,
          10,
          0,
          -11,
          10,
          10,
          10,
          -11,
          10,
          -13
         ],
         "yaxis": "y"
        },
        {
         "alignmentgroup": "True",
         "bingroup": "x",
         "histfunc": "sum",
         "hovertemplate": "Sport=Football<br>Week=%{x}<br>sum of Win/Lose=%{y}<extra></extra>",
         "legendgroup": "Football",
         "marker": {
          "color": "#EF553B",
          "pattern": {
           "shape": ""
          }
         },
         "name": "Football",
         "offsetgroup": "Football",
         "orientation": "v",
         "showlegend": true,
         "texttemplate": "%{value}",
         "type": "histogram",
         "x": [
          "32",
          "32",
          "32",
          "31",
          "31"
         ],
         "xaxis": "x",
         "y": [
          -11,
          -11,
          -11,
          10,
          10
         ],
         "yaxis": "y"
        },
        {
         "alignmentgroup": "True",
         "bingroup": "x",
         "histfunc": "sum",
         "hovertemplate": "Sport=Tennis<br>Week=%{x}<br>sum of Win/Lose=%{y}<extra></extra>",
         "legendgroup": "Tennis",
         "marker": {
          "color": "#00cc96",
          "pattern": {
           "shape": ""
          }
         },
         "name": "Tennis",
         "offsetgroup": "Tennis",
         "orientation": "v",
         "showlegend": true,
         "texttemplate": "%{value}",
         "type": "histogram",
         "x": [
          "32",
          "32",
          "32",
          "31",
          "31",
          "31",
          "31",
          "31"
         ],
         "xaxis": "x",
         "y": [
          10,
          -12.5,
          -10,
          -10,
          -11,
          10,
          0,
          0
         ],
         "yaxis": "y"
        },
        {
         "alignmentgroup": "True",
         "bingroup": "x",
         "histfunc": "sum",
         "hovertemplate": "Sport=Baseball<br>Week=%{x}<br>sum of Win/Lose=%{y}<extra></extra>",
         "legendgroup": "Baseball",
         "marker": {
          "color": "#ab63fa",
          "pattern": {
           "shape": ""
          }
         },
         "name": "Baseball",
         "offsetgroup": "Baseball",
         "orientation": "v",
         "showlegend": true,
         "texttemplate": "%{value}",
         "type": "histogram",
         "x": [
          "32",
          "32",
          "32",
          "31",
          "31"
         ],
         "xaxis": "x",
         "y": [
          10,
          10,
          10,
          -10,
          -10
         ],
         "yaxis": "y"
        },
        {
         "alignmentgroup": "True",
         "bingroup": "x",
         "histfunc": "sum",
         "hovertemplate": "Sport=Basketball<br>Week=%{x}<br>sum of Win/Lose=%{y}<extra></extra>",
         "legendgroup": "Basketball",
         "marker": {
          "color": "#FFA15A",
          "pattern": {
           "shape": ""
          }
         },
         "name": "Basketball",
         "offsetgroup": "Basketball",
         "orientation": "v",
         "showlegend": true,
         "texttemplate": "%{value}",
         "type": "histogram",
         "x": [
          "32",
          "32",
          "31",
          "31",
          "31",
          "31",
          "31",
          "31"
         ],
         "xaxis": "x",
         "y": [
          10,
          10,
          -11,
          -11,
          10,
          10,
          10,
          10
         ],
         "yaxis": "y"
        }
       ],
       "layout": {
        "barmode": "group",
        "legend": {
         "title": {
          "text": "Sport"
         },
         "tracegroupgap": 0
        },
        "template": {
         "data": {
          "bar": [
           {
            "error_x": {
             "color": "#2a3f5f"
            },
            "error_y": {
             "color": "#2a3f5f"
            },
            "marker": {
             "line": {
              "color": "#E5ECF6",
              "width": 0.5
             },
             "pattern": {
              "fillmode": "overlay",
              "size": 10,
              "solidity": 0.2
             }
            },
            "type": "bar"
           }
          ],
          "barpolar": [
           {
            "marker": {
             "line": {
              "color": "#E5ECF6",
              "width": 0.5
             },
             "pattern": {
              "fillmode": "overlay",
              "size": 10,
              "solidity": 0.2
             }
            },
            "type": "barpolar"
           }
          ],
          "carpet": [
           {
            "aaxis": {
             "endlinecolor": "#2a3f5f",
             "gridcolor": "white",
             "linecolor": "white",
             "minorgridcolor": "white",
             "startlinecolor": "#2a3f5f"
            },
            "baxis": {
             "endlinecolor": "#2a3f5f",
             "gridcolor": "white",
             "linecolor": "white",
             "minorgridcolor": "white",
             "startlinecolor": "#2a3f5f"
            },
            "type": "carpet"
           }
          ],
          "choropleth": [
           {
            "colorbar": {
             "outlinewidth": 0,
             "ticks": ""
            },
            "type": "choropleth"
           }
          ],
          "contour": [
           {
            "colorbar": {
             "outlinewidth": 0,
             "ticks": ""
            },
            "colorscale": [
             [
              0,
              "#0d0887"
             ],
             [
              0.1111111111111111,
              "#46039f"
             ],
             [
              0.2222222222222222,
              "#7201a8"
             ],
             [
              0.3333333333333333,
              "#9c179e"
             ],
             [
              0.4444444444444444,
              "#bd3786"
             ],
             [
              0.5555555555555556,
              "#d8576b"
             ],
             [
              0.6666666666666666,
              "#ed7953"
             ],
             [
              0.7777777777777778,
              "#fb9f3a"
             ],
             [
              0.8888888888888888,
              "#fdca26"
             ],
             [
              1,
              "#f0f921"
             ]
            ],
            "type": "contour"
           }
          ],
          "contourcarpet": [
           {
            "colorbar": {
             "outlinewidth": 0,
             "ticks": ""
            },
            "type": "contourcarpet"
           }
          ],
          "heatmap": [
           {
            "colorbar": {
             "outlinewidth": 0,
             "ticks": ""
            },
            "colorscale": [
             [
              0,
              "#0d0887"
             ],
             [
              0.1111111111111111,
              "#46039f"
             ],
             [
              0.2222222222222222,
              "#7201a8"
             ],
             [
              0.3333333333333333,
              "#9c179e"
             ],
             [
              0.4444444444444444,
              "#bd3786"
             ],
             [
              0.5555555555555556,
              "#d8576b"
             ],
             [
              0.6666666666666666,
              "#ed7953"
             ],
             [
              0.7777777777777778,
              "#fb9f3a"
             ],
             [
              0.8888888888888888,
              "#fdca26"
             ],
             [
              1,
              "#f0f921"
             ]
            ],
            "type": "heatmap"
           }
          ],
          "heatmapgl": [
           {
            "colorbar": {
             "outlinewidth": 0,
             "ticks": ""
            },
            "colorscale": [
             [
              0,
              "#0d0887"
             ],
             [
              0.1111111111111111,
              "#46039f"
             ],
             [
              0.2222222222222222,
              "#7201a8"
             ],
             [
              0.3333333333333333,
              "#9c179e"
             ],
             [
              0.4444444444444444,
              "#bd3786"
             ],
             [
              0.5555555555555556,
              "#d8576b"
             ],
             [
              0.6666666666666666,
              "#ed7953"
             ],
             [
              0.7777777777777778,
              "#fb9f3a"
             ],
             [
              0.8888888888888888,
              "#fdca26"
             ],
             [
              1,
              "#f0f921"
             ]
            ],
            "type": "heatmapgl"
           }
          ],
          "histogram": [
           {
            "marker": {
             "pattern": {
              "fillmode": "overlay",
              "size": 10,
              "solidity": 0.2
             }
            },
            "type": "histogram"
           }
          ],
          "histogram2d": [
           {
            "colorbar": {
             "outlinewidth": 0,
             "ticks": ""
            },
            "colorscale": [
             [
              0,
              "#0d0887"
             ],
             [
              0.1111111111111111,
              "#46039f"
             ],
             [
              0.2222222222222222,
              "#7201a8"
             ],
             [
              0.3333333333333333,
              "#9c179e"
             ],
             [
              0.4444444444444444,
              "#bd3786"
             ],
             [
              0.5555555555555556,
              "#d8576b"
             ],
             [
              0.6666666666666666,
              "#ed7953"
             ],
             [
              0.7777777777777778,
              "#fb9f3a"
             ],
             [
              0.8888888888888888,
              "#fdca26"
             ],
             [
              1,
              "#f0f921"
             ]
            ],
            "type": "histogram2d"
           }
          ],
          "histogram2dcontour": [
           {
            "colorbar": {
             "outlinewidth": 0,
             "ticks": ""
            },
            "colorscale": [
             [
              0,
              "#0d0887"
             ],
             [
              0.1111111111111111,
              "#46039f"
             ],
             [
              0.2222222222222222,
              "#7201a8"
             ],
             [
              0.3333333333333333,
              "#9c179e"
             ],
             [
              0.4444444444444444,
              "#bd3786"
             ],
             [
              0.5555555555555556,
              "#d8576b"
             ],
             [
              0.6666666666666666,
              "#ed7953"
             ],
             [
              0.7777777777777778,
              "#fb9f3a"
             ],
             [
              0.8888888888888888,
              "#fdca26"
             ],
             [
              1,
              "#f0f921"
             ]
            ],
            "type": "histogram2dcontour"
           }
          ],
          "mesh3d": [
           {
            "colorbar": {
             "outlinewidth": 0,
             "ticks": ""
            },
            "type": "mesh3d"
           }
          ],
          "parcoords": [
           {
            "line": {
             "colorbar": {
              "outlinewidth": 0,
              "ticks": ""
             }
            },
            "type": "parcoords"
           }
          ],
          "pie": [
           {
            "automargin": true,
            "type": "pie"
           }
          ],
          "scatter": [
           {
            "marker": {
             "colorbar": {
              "outlinewidth": 0,
              "ticks": ""
             }
            },
            "type": "scatter"
           }
          ],
          "scatter3d": [
           {
            "line": {
             "colorbar": {
              "outlinewidth": 0,
              "ticks": ""
             }
            },
            "marker": {
             "colorbar": {
              "outlinewidth": 0,
              "ticks": ""
             }
            },
            "type": "scatter3d"
           }
          ],
          "scattercarpet": [
           {
            "marker": {
             "colorbar": {
              "outlinewidth": 0,
              "ticks": ""
             }
            },
            "type": "scattercarpet"
           }
          ],
          "scattergeo": [
           {
            "marker": {
             "colorbar": {
              "outlinewidth": 0,
              "ticks": ""
             }
            },
            "type": "scattergeo"
           }
          ],
          "scattergl": [
           {
            "marker": {
             "colorbar": {
              "outlinewidth": 0,
              "ticks": ""
             }
            },
            "type": "scattergl"
           }
          ],
          "scattermapbox": [
           {
            "marker": {
             "colorbar": {
              "outlinewidth": 0,
              "ticks": ""
             }
            },
            "type": "scattermapbox"
           }
          ],
          "scatterpolar": [
           {
            "marker": {
             "colorbar": {
              "outlinewidth": 0,
              "ticks": ""
             }
            },
            "type": "scatterpolar"
           }
          ],
          "scatterpolargl": [
           {
            "marker": {
             "colorbar": {
              "outlinewidth": 0,
              "ticks": ""
             }
            },
            "type": "scatterpolargl"
           }
          ],
          "scatterternary": [
           {
            "marker": {
             "colorbar": {
              "outlinewidth": 0,
              "ticks": ""
             }
            },
            "type": "scatterternary"
           }
          ],
          "surface": [
           {
            "colorbar": {
             "outlinewidth": 0,
             "ticks": ""
            },
            "colorscale": [
             [
              0,
              "#0d0887"
             ],
             [
              0.1111111111111111,
              "#46039f"
             ],
             [
              0.2222222222222222,
              "#7201a8"
             ],
             [
              0.3333333333333333,
              "#9c179e"
             ],
             [
              0.4444444444444444,
              "#bd3786"
             ],
             [
              0.5555555555555556,
              "#d8576b"
             ],
             [
              0.6666666666666666,
              "#ed7953"
             ],
             [
              0.7777777777777778,
              "#fb9f3a"
             ],
             [
              0.8888888888888888,
              "#fdca26"
             ],
             [
              1,
              "#f0f921"
             ]
            ],
            "type": "surface"
           }
          ],
          "table": [
           {
            "cells": {
             "fill": {
              "color": "#EBF0F8"
             },
             "line": {
              "color": "white"
             }
            },
            "header": {
             "fill": {
              "color": "#C8D4E3"
             },
             "line": {
              "color": "white"
             }
            },
            "type": "table"
           }
          ]
         },
         "layout": {
          "annotationdefaults": {
           "arrowcolor": "#2a3f5f",
           "arrowhead": 0,
           "arrowwidth": 1
          },
          "autotypenumbers": "strict",
          "coloraxis": {
           "colorbar": {
            "outlinewidth": 0,
            "ticks": ""
           }
          },
          "colorscale": {
           "diverging": [
            [
             0,
             "#8e0152"
            ],
            [
             0.1,
             "#c51b7d"
            ],
            [
             0.2,
             "#de77ae"
            ],
            [
             0.3,
             "#f1b6da"
            ],
            [
             0.4,
             "#fde0ef"
            ],
            [
             0.5,
             "#f7f7f7"
            ],
            [
             0.6,
             "#e6f5d0"
            ],
            [
             0.7,
             "#b8e186"
            ],
            [
             0.8,
             "#7fbc41"
            ],
            [
             0.9,
             "#4d9221"
            ],
            [
             1,
             "#276419"
            ]
           ],
           "sequential": [
            [
             0,
             "#0d0887"
            ],
            [
             0.1111111111111111,
             "#46039f"
            ],
            [
             0.2222222222222222,
             "#7201a8"
            ],
            [
             0.3333333333333333,
             "#9c179e"
            ],
            [
             0.4444444444444444,
             "#bd3786"
            ],
            [
             0.5555555555555556,
             "#d8576b"
            ],
            [
             0.6666666666666666,
             "#ed7953"
            ],
            [
             0.7777777777777778,
             "#fb9f3a"
            ],
            [
             0.8888888888888888,
             "#fdca26"
            ],
            [
             1,
             "#f0f921"
            ]
           ],
           "sequentialminus": [
            [
             0,
             "#0d0887"
            ],
            [
             0.1111111111111111,
             "#46039f"
            ],
            [
             0.2222222222222222,
             "#7201a8"
            ],
            [
             0.3333333333333333,
             "#9c179e"
            ],
            [
             0.4444444444444444,
             "#bd3786"
            ],
            [
             0.5555555555555556,
             "#d8576b"
            ],
            [
             0.6666666666666666,
             "#ed7953"
            ],
            [
             0.7777777777777778,
             "#fb9f3a"
            ],
            [
             0.8888888888888888,
             "#fdca26"
            ],
            [
             1,
             "#f0f921"
            ]
           ]
          },
          "colorway": [
           "#636efa",
           "#EF553B",
           "#00cc96",
           "#ab63fa",
           "#FFA15A",
           "#19d3f3",
           "#FF6692",
           "#B6E880",
           "#FF97FF",
           "#FECB52"
          ],
          "font": {
           "color": "#2a3f5f"
          },
          "geo": {
           "bgcolor": "white",
           "lakecolor": "white",
           "landcolor": "#E5ECF6",
           "showlakes": true,
           "showland": true,
           "subunitcolor": "white"
          },
          "hoverlabel": {
           "align": "left"
          },
          "hovermode": "closest",
          "mapbox": {
           "style": "light"
          },
          "paper_bgcolor": "white",
          "plot_bgcolor": "#E5ECF6",
          "polar": {
           "angularaxis": {
            "gridcolor": "white",
            "linecolor": "white",
            "ticks": ""
           },
           "bgcolor": "#E5ECF6",
           "radialaxis": {
            "gridcolor": "white",
            "linecolor": "white",
            "ticks": ""
           }
          },
          "scene": {
           "xaxis": {
            "backgroundcolor": "#E5ECF6",
            "gridcolor": "white",
            "gridwidth": 2,
            "linecolor": "white",
            "showbackground": true,
            "ticks": "",
            "zerolinecolor": "white"
           },
           "yaxis": {
            "backgroundcolor": "#E5ECF6",
            "gridcolor": "white",
            "gridwidth": 2,
            "linecolor": "white",
            "showbackground": true,
            "ticks": "",
            "zerolinecolor": "white"
           },
           "zaxis": {
            "backgroundcolor": "#E5ECF6",
            "gridcolor": "white",
            "gridwidth": 2,
            "linecolor": "white",
            "showbackground": true,
            "ticks": "",
            "zerolinecolor": "white"
           }
          },
          "shapedefaults": {
           "line": {
            "color": "#2a3f5f"
           }
          },
          "ternary": {
           "aaxis": {
            "gridcolor": "white",
            "linecolor": "white",
            "ticks": ""
           },
           "baxis": {
            "gridcolor": "white",
            "linecolor": "white",
            "ticks": ""
           },
           "bgcolor": "#E5ECF6",
           "caxis": {
            "gridcolor": "white",
            "linecolor": "white",
            "ticks": ""
           }
          },
          "title": {
           "x": 0.05
          },
          "xaxis": {
           "automargin": true,
           "gridcolor": "white",
           "linecolor": "white",
           "ticks": "",
           "title": {
            "standoff": 15
           },
           "zerolinecolor": "white",
           "zerolinewidth": 2
          },
          "yaxis": {
           "automargin": true,
           "gridcolor": "white",
           "linecolor": "white",
           "ticks": "",
           "title": {
            "standoff": 15
           },
           "zerolinecolor": "white",
           "zerolinewidth": 2
          }
         }
        },
        "title": {
         "text": "Historical Record by Week/Sport"
        },
        "xaxis": {
         "anchor": "y",
         "categoryorder": "total descending",
         "domain": [
          0,
          1
         ],
         "title": {
          "text": "Week"
         }
        },
        "yaxis": {
         "anchor": "x",
         "categoryorder": "total descending",
         "domain": [
          0,
          1
         ],
         "title": {
          "text": "Dollars ($)"
         }
        }
       }
      }
     },
     "metadata": {},
     "output_type": "display_data"
    }
   ],
   "source": [
    "week = px.histogram(df, \n",
    "            x=\"Week\", \n",
    "            y=\"Win/Lose\", \n",
    "            color=\"Sport\", \n",
    "            barmode=\"group\",\n",
    "            title=f\"Historical Record by Week/Sport\"\n",
    "            ,histfunc=\"sum\"\n",
    "            ,text_auto=True)\n",
    "\n",
    "week.update_layout(yaxis_title=\"Dollars ($)\")\n",
    "week.update_xaxes(categoryorder='total descending')\n",
    "week.update_yaxes(categoryorder='total descending')\n",
    "\n",
    "week.show()"
   ]
  },
  {
   "cell_type": "code",
   "execution_count": 122,
   "metadata": {},
   "outputs": [
    {
     "data": {
      "application/vnd.plotly.v1+json": {
       "config": {
        "plotlyServerURL": "https://plot.ly"
       },
       "data": [
        {
         "alignmentgroup": "True",
         "bingroup": "x",
         "histfunc": "sum",
         "hovertemplate": "League=Italy<br>Sport=%{x}<br>sum of Win/Lose=%{y}<extra></extra>",
         "legendgroup": "Italy",
         "marker": {
          "color": "#636efa",
          "pattern": {
           "shape": ""
          }
         },
         "name": "Italy",
         "offsetgroup": "Italy",
         "orientation": "v",
         "showlegend": true,
         "texttemplate": "%{value}",
         "type": "histogram",
         "x": [
          "Soccer"
         ],
         "xaxis": "x",
         "y": [
          5
         ],
         "yaxis": "y"
        },
        {
         "alignmentgroup": "True",
         "bingroup": "x",
         "histfunc": "sum",
         "hovertemplate": "League=Germany<br>Sport=%{x}<br>sum of Win/Lose=%{y}<extra></extra>",
         "legendgroup": "Germany",
         "marker": {
          "color": "#EF553B",
          "pattern": {
           "shape": ""
          }
         },
         "name": "Germany",
         "offsetgroup": "Germany",
         "orientation": "v",
         "showlegend": true,
         "texttemplate": "%{value}",
         "type": "histogram",
         "x": [
          "Soccer",
          "Soccer"
         ],
         "xaxis": "x",
         "y": [
          -12.5,
          -11
         ],
         "yaxis": "y"
        },
        {
         "alignmentgroup": "True",
         "bingroup": "x",
         "histfunc": "sum",
         "hovertemplate": "League=NFL<br>Sport=%{x}<br>sum of Win/Lose=%{y}<extra></extra>",
         "legendgroup": "NFL",
         "marker": {
          "color": "#00cc96",
          "pattern": {
           "shape": ""
          }
         },
         "name": "NFL",
         "offsetgroup": "NFL",
         "orientation": "v",
         "showlegend": true,
         "texttemplate": "%{value}",
         "type": "histogram",
         "x": [
          "Football",
          "Football",
          "Football",
          "Football"
         ],
         "xaxis": "x",
         "y": [
          -11,
          -11,
          -11,
          10
         ],
         "yaxis": "y"
        },
        {
         "alignmentgroup": "True",
         "bingroup": "x",
         "histfunc": "sum",
         "hovertemplate": "League=ATP<br>Sport=%{x}<br>sum of Win/Lose=%{y}<extra></extra>",
         "legendgroup": "ATP",
         "marker": {
          "color": "#ab63fa",
          "pattern": {
           "shape": ""
          }
         },
         "name": "ATP",
         "offsetgroup": "ATP",
         "orientation": "v",
         "showlegend": true,
         "texttemplate": "%{value}",
         "type": "histogram",
         "x": [
          "Tennis",
          "Tennis",
          "Tennis"
         ],
         "xaxis": "x",
         "y": [
          10,
          -11,
          0
         ],
         "yaxis": "y"
        },
        {
         "alignmentgroup": "True",
         "bingroup": "x",
         "histfunc": "sum",
         "hovertemplate": "League=MLB<br>Sport=%{x}<br>sum of Win/Lose=%{y}<extra></extra>",
         "legendgroup": "MLB",
         "marker": {
          "color": "#FFA15A",
          "pattern": {
           "shape": ""
          }
         },
         "name": "MLB",
         "offsetgroup": "MLB",
         "orientation": "v",
         "showlegend": true,
         "texttemplate": "%{value}",
         "type": "histogram",
         "x": [
          "Baseball",
          "Baseball",
          "Baseball",
          "Baseball"
         ],
         "xaxis": "x",
         "y": [
          10,
          10,
          10,
          -10
         ],
         "yaxis": "y"
        },
        {
         "alignmentgroup": "True",
         "bingroup": "x",
         "histfunc": "sum",
         "hovertemplate": "League=WNBA<br>Sport=%{x}<br>sum of Win/Lose=%{y}<extra></extra>",
         "legendgroup": "WNBA",
         "marker": {
          "color": "#19d3f3",
          "pattern": {
           "shape": ""
          }
         },
         "name": "WNBA",
         "offsetgroup": "WNBA",
         "orientation": "v",
         "showlegend": true,
         "texttemplate": "%{value}",
         "type": "histogram",
         "x": [
          "Basketball",
          "Basketball",
          "Basketball",
          "Basketball",
          "Basketball",
          "Basketball",
          "Basketball",
          "Basketball"
         ],
         "xaxis": "x",
         "y": [
          10,
          10,
          -11,
          -11,
          10,
          10,
          10,
          10
         ],
         "yaxis": "y"
        },
        {
         "alignmentgroup": "True",
         "bingroup": "x",
         "histfunc": "sum",
         "hovertemplate": "League=England<br>Sport=%{x}<br>sum of Win/Lose=%{y}<extra></extra>",
         "legendgroup": "England",
         "marker": {
          "color": "#FF6692",
          "pattern": {
           "shape": ""
          }
         },
         "name": "England",
         "offsetgroup": "England",
         "orientation": "v",
         "showlegend": true,
         "texttemplate": "%{value}",
         "type": "histogram",
         "x": [
          "Soccer",
          "Soccer",
          "Soccer"
         ],
         "xaxis": "x",
         "y": [
          10,
          10,
          -11
         ],
         "yaxis": "y"
        },
        {
         "alignmentgroup": "True",
         "bingroup": "x",
         "histfunc": "sum",
         "hovertemplate": "League=WTA<br>Sport=%{x}<br>sum of Win/Lose=%{y}<extra></extra>",
         "legendgroup": "WTA",
         "marker": {
          "color": "#B6E880",
          "pattern": {
           "shape": ""
          }
         },
         "name": "WTA",
         "offsetgroup": "WTA",
         "orientation": "v",
         "showlegend": true,
         "texttemplate": "%{value}",
         "type": "histogram",
         "x": [
          "Tennis",
          "Tennis",
          "Tennis",
          "Tennis",
          "Tennis"
         ],
         "xaxis": "x",
         "y": [
          -12.5,
          -10,
          -10,
          10,
          0
         ],
         "yaxis": "y"
        },
        {
         "alignmentgroup": "True",
         "bingroup": "x",
         "histfunc": "sum",
         "hovertemplate": "League=Argentina<br>Sport=%{x}<br>sum of Win/Lose=%{y}<extra></extra>",
         "legendgroup": "Argentina",
         "marker": {
          "color": "#FF97FF",
          "pattern": {
           "shape": ""
          }
         },
         "name": "Argentina",
         "offsetgroup": "Argentina",
         "orientation": "v",
         "showlegend": true,
         "texttemplate": "%{value}",
         "type": "histogram",
         "x": [
          "Soccer"
         ],
         "xaxis": "x",
         "y": [
          10
         ],
         "yaxis": "y"
        },
        {
         "alignmentgroup": "True",
         "bingroup": "x",
         "histfunc": "sum",
         "hovertemplate": "League=Turkey<br>Sport=%{x}<br>sum of Win/Lose=%{y}<extra></extra>",
         "legendgroup": "Turkey",
         "marker": {
          "color": "#FECB52",
          "pattern": {
           "shape": ""
          }
         },
         "name": "Turkey",
         "offsetgroup": "Turkey",
         "orientation": "v",
         "showlegend": true,
         "texttemplate": "%{value}",
         "type": "histogram",
         "x": [
          "Soccer",
          "Soccer"
         ],
         "xaxis": "x",
         "y": [
          10,
          10
         ],
         "yaxis": "y"
        },
        {
         "alignmentgroup": "True",
         "bingroup": "x",
         "histfunc": "sum",
         "hovertemplate": "League=Mexico<br>Sport=%{x}<br>sum of Win/Lose=%{y}<extra></extra>",
         "legendgroup": "Mexico",
         "marker": {
          "color": "#636efa",
          "pattern": {
           "shape": ""
          }
         },
         "name": "Mexico",
         "offsetgroup": "Mexico",
         "orientation": "v",
         "showlegend": true,
         "texttemplate": "%{value}",
         "type": "histogram",
         "x": [
          "Soccer",
          "Soccer",
          "Soccer"
         ],
         "xaxis": "x",
         "y": [
          -6,
          10,
          10
         ],
         "yaxis": "y"
        },
        {
         "alignmentgroup": "True",
         "bingroup": "x",
         "histfunc": "sum",
         "hovertemplate": "League=Belgium<br>Sport=%{x}<br>sum of Win/Lose=%{y}<extra></extra>",
         "legendgroup": "Belgium",
         "marker": {
          "color": "#EF553B",
          "pattern": {
           "shape": ""
          }
         },
         "name": "Belgium",
         "offsetgroup": "Belgium",
         "orientation": "v",
         "showlegend": true,
         "texttemplate": "%{value}",
         "type": "histogram",
         "x": [
          "Soccer"
         ],
         "xaxis": "x",
         "y": [
          15
         ],
         "yaxis": "y"
        },
        {
         "alignmentgroup": "True",
         "bingroup": "x",
         "histfunc": "sum",
         "hovertemplate": "League=France<br>Sport=%{x}<br>sum of Win/Lose=%{y}<extra></extra>",
         "legendgroup": "France",
         "marker": {
          "color": "#00cc96",
          "pattern": {
           "shape": ""
          }
         },
         "name": "France",
         "offsetgroup": "France",
         "orientation": "v",
         "showlegend": true,
         "texttemplate": "%{value}",
         "type": "histogram",
         "x": [
          "Soccer",
          "Soccer"
         ],
         "xaxis": "x",
         "y": [
          0,
          10
         ],
         "yaxis": "y"
        },
        {
         "alignmentgroup": "True",
         "bingroup": "x",
         "histfunc": "sum",
         "hovertemplate": "League=CFL<br>Sport=%{x}<br>sum of Win/Lose=%{y}<extra></extra>",
         "legendgroup": "CFL",
         "marker": {
          "color": "#ab63fa",
          "pattern": {
           "shape": ""
          }
         },
         "name": "CFL",
         "offsetgroup": "CFL",
         "orientation": "v",
         "showlegend": true,
         "texttemplate": "%{value}",
         "type": "histogram",
         "x": [
          "Football"
         ],
         "xaxis": "x",
         "y": [
          10
         ],
         "yaxis": "y"
        },
        {
         "alignmentgroup": "True",
         "bingroup": "x",
         "histfunc": "sum",
         "hovertemplate": "League=MLS<br>Sport=%{x}<br>sum of Win/Lose=%{y}<extra></extra>",
         "legendgroup": "MLS",
         "marker": {
          "color": "#FFA15A",
          "pattern": {
           "shape": ""
          }
         },
         "name": "MLS",
         "offsetgroup": "MLS",
         "orientation": "v",
         "showlegend": true,
         "texttemplate": "%{value}",
         "type": "histogram",
         "x": [
          "Soccer"
         ],
         "xaxis": "x",
         "y": [
          10
         ],
         "yaxis": "y"
        },
        {
         "alignmentgroup": "True",
         "bingroup": "x",
         "histfunc": "sum",
         "hovertemplate": "League=Asia<br>Sport=%{x}<br>sum of Win/Lose=%{y}<extra></extra>",
         "legendgroup": "Asia",
         "marker": {
          "color": "#19d3f3",
          "pattern": {
           "shape": ""
          }
         },
         "name": "Asia",
         "offsetgroup": "Asia",
         "orientation": "v",
         "showlegend": true,
         "texttemplate": "%{value}",
         "type": "histogram",
         "x": [
          "Baseball"
         ],
         "xaxis": "x",
         "y": [
          -10
         ],
         "yaxis": "y"
        },
        {
         "alignmentgroup": "True",
         "bingroup": "x",
         "histfunc": "sum",
         "hovertemplate": "League=Norway<br>Sport=%{x}<br>sum of Win/Lose=%{y}<extra></extra>",
         "legendgroup": "Norway",
         "marker": {
          "color": "#FF6692",
          "pattern": {
           "shape": ""
          }
         },
         "name": "Norway",
         "offsetgroup": "Norway",
         "orientation": "v",
         "showlegend": true,
         "texttemplate": "%{value}",
         "type": "histogram",
         "x": [
          "Soccer"
         ],
         "xaxis": "x",
         "y": [
          -13
         ],
         "yaxis": "y"
        }
       ],
       "layout": {
        "barmode": "group",
        "legend": {
         "title": {
          "text": "League"
         },
         "tracegroupgap": 0
        },
        "template": {
         "data": {
          "bar": [
           {
            "error_x": {
             "color": "#2a3f5f"
            },
            "error_y": {
             "color": "#2a3f5f"
            },
            "marker": {
             "line": {
              "color": "#E5ECF6",
              "width": 0.5
             },
             "pattern": {
              "fillmode": "overlay",
              "size": 10,
              "solidity": 0.2
             }
            },
            "type": "bar"
           }
          ],
          "barpolar": [
           {
            "marker": {
             "line": {
              "color": "#E5ECF6",
              "width": 0.5
             },
             "pattern": {
              "fillmode": "overlay",
              "size": 10,
              "solidity": 0.2
             }
            },
            "type": "barpolar"
           }
          ],
          "carpet": [
           {
            "aaxis": {
             "endlinecolor": "#2a3f5f",
             "gridcolor": "white",
             "linecolor": "white",
             "minorgridcolor": "white",
             "startlinecolor": "#2a3f5f"
            },
            "baxis": {
             "endlinecolor": "#2a3f5f",
             "gridcolor": "white",
             "linecolor": "white",
             "minorgridcolor": "white",
             "startlinecolor": "#2a3f5f"
            },
            "type": "carpet"
           }
          ],
          "choropleth": [
           {
            "colorbar": {
             "outlinewidth": 0,
             "ticks": ""
            },
            "type": "choropleth"
           }
          ],
          "contour": [
           {
            "colorbar": {
             "outlinewidth": 0,
             "ticks": ""
            },
            "colorscale": [
             [
              0,
              "#0d0887"
             ],
             [
              0.1111111111111111,
              "#46039f"
             ],
             [
              0.2222222222222222,
              "#7201a8"
             ],
             [
              0.3333333333333333,
              "#9c179e"
             ],
             [
              0.4444444444444444,
              "#bd3786"
             ],
             [
              0.5555555555555556,
              "#d8576b"
             ],
             [
              0.6666666666666666,
              "#ed7953"
             ],
             [
              0.7777777777777778,
              "#fb9f3a"
             ],
             [
              0.8888888888888888,
              "#fdca26"
             ],
             [
              1,
              "#f0f921"
             ]
            ],
            "type": "contour"
           }
          ],
          "contourcarpet": [
           {
            "colorbar": {
             "outlinewidth": 0,
             "ticks": ""
            },
            "type": "contourcarpet"
           }
          ],
          "heatmap": [
           {
            "colorbar": {
             "outlinewidth": 0,
             "ticks": ""
            },
            "colorscale": [
             [
              0,
              "#0d0887"
             ],
             [
              0.1111111111111111,
              "#46039f"
             ],
             [
              0.2222222222222222,
              "#7201a8"
             ],
             [
              0.3333333333333333,
              "#9c179e"
             ],
             [
              0.4444444444444444,
              "#bd3786"
             ],
             [
              0.5555555555555556,
              "#d8576b"
             ],
             [
              0.6666666666666666,
              "#ed7953"
             ],
             [
              0.7777777777777778,
              "#fb9f3a"
             ],
             [
              0.8888888888888888,
              "#fdca26"
             ],
             [
              1,
              "#f0f921"
             ]
            ],
            "type": "heatmap"
           }
          ],
          "heatmapgl": [
           {
            "colorbar": {
             "outlinewidth": 0,
             "ticks": ""
            },
            "colorscale": [
             [
              0,
              "#0d0887"
             ],
             [
              0.1111111111111111,
              "#46039f"
             ],
             [
              0.2222222222222222,
              "#7201a8"
             ],
             [
              0.3333333333333333,
              "#9c179e"
             ],
             [
              0.4444444444444444,
              "#bd3786"
             ],
             [
              0.5555555555555556,
              "#d8576b"
             ],
             [
              0.6666666666666666,
              "#ed7953"
             ],
             [
              0.7777777777777778,
              "#fb9f3a"
             ],
             [
              0.8888888888888888,
              "#fdca26"
             ],
             [
              1,
              "#f0f921"
             ]
            ],
            "type": "heatmapgl"
           }
          ],
          "histogram": [
           {
            "marker": {
             "pattern": {
              "fillmode": "overlay",
              "size": 10,
              "solidity": 0.2
             }
            },
            "type": "histogram"
           }
          ],
          "histogram2d": [
           {
            "colorbar": {
             "outlinewidth": 0,
             "ticks": ""
            },
            "colorscale": [
             [
              0,
              "#0d0887"
             ],
             [
              0.1111111111111111,
              "#46039f"
             ],
             [
              0.2222222222222222,
              "#7201a8"
             ],
             [
              0.3333333333333333,
              "#9c179e"
             ],
             [
              0.4444444444444444,
              "#bd3786"
             ],
             [
              0.5555555555555556,
              "#d8576b"
             ],
             [
              0.6666666666666666,
              "#ed7953"
             ],
             [
              0.7777777777777778,
              "#fb9f3a"
             ],
             [
              0.8888888888888888,
              "#fdca26"
             ],
             [
              1,
              "#f0f921"
             ]
            ],
            "type": "histogram2d"
           }
          ],
          "histogram2dcontour": [
           {
            "colorbar": {
             "outlinewidth": 0,
             "ticks": ""
            },
            "colorscale": [
             [
              0,
              "#0d0887"
             ],
             [
              0.1111111111111111,
              "#46039f"
             ],
             [
              0.2222222222222222,
              "#7201a8"
             ],
             [
              0.3333333333333333,
              "#9c179e"
             ],
             [
              0.4444444444444444,
              "#bd3786"
             ],
             [
              0.5555555555555556,
              "#d8576b"
             ],
             [
              0.6666666666666666,
              "#ed7953"
             ],
             [
              0.7777777777777778,
              "#fb9f3a"
             ],
             [
              0.8888888888888888,
              "#fdca26"
             ],
             [
              1,
              "#f0f921"
             ]
            ],
            "type": "histogram2dcontour"
           }
          ],
          "mesh3d": [
           {
            "colorbar": {
             "outlinewidth": 0,
             "ticks": ""
            },
            "type": "mesh3d"
           }
          ],
          "parcoords": [
           {
            "line": {
             "colorbar": {
              "outlinewidth": 0,
              "ticks": ""
             }
            },
            "type": "parcoords"
           }
          ],
          "pie": [
           {
            "automargin": true,
            "type": "pie"
           }
          ],
          "scatter": [
           {
            "marker": {
             "colorbar": {
              "outlinewidth": 0,
              "ticks": ""
             }
            },
            "type": "scatter"
           }
          ],
          "scatter3d": [
           {
            "line": {
             "colorbar": {
              "outlinewidth": 0,
              "ticks": ""
             }
            },
            "marker": {
             "colorbar": {
              "outlinewidth": 0,
              "ticks": ""
             }
            },
            "type": "scatter3d"
           }
          ],
          "scattercarpet": [
           {
            "marker": {
             "colorbar": {
              "outlinewidth": 0,
              "ticks": ""
             }
            },
            "type": "scattercarpet"
           }
          ],
          "scattergeo": [
           {
            "marker": {
             "colorbar": {
              "outlinewidth": 0,
              "ticks": ""
             }
            },
            "type": "scattergeo"
           }
          ],
          "scattergl": [
           {
            "marker": {
             "colorbar": {
              "outlinewidth": 0,
              "ticks": ""
             }
            },
            "type": "scattergl"
           }
          ],
          "scattermapbox": [
           {
            "marker": {
             "colorbar": {
              "outlinewidth": 0,
              "ticks": ""
             }
            },
            "type": "scattermapbox"
           }
          ],
          "scatterpolar": [
           {
            "marker": {
             "colorbar": {
              "outlinewidth": 0,
              "ticks": ""
             }
            },
            "type": "scatterpolar"
           }
          ],
          "scatterpolargl": [
           {
            "marker": {
             "colorbar": {
              "outlinewidth": 0,
              "ticks": ""
             }
            },
            "type": "scatterpolargl"
           }
          ],
          "scatterternary": [
           {
            "marker": {
             "colorbar": {
              "outlinewidth": 0,
              "ticks": ""
             }
            },
            "type": "scatterternary"
           }
          ],
          "surface": [
           {
            "colorbar": {
             "outlinewidth": 0,
             "ticks": ""
            },
            "colorscale": [
             [
              0,
              "#0d0887"
             ],
             [
              0.1111111111111111,
              "#46039f"
             ],
             [
              0.2222222222222222,
              "#7201a8"
             ],
             [
              0.3333333333333333,
              "#9c179e"
             ],
             [
              0.4444444444444444,
              "#bd3786"
             ],
             [
              0.5555555555555556,
              "#d8576b"
             ],
             [
              0.6666666666666666,
              "#ed7953"
             ],
             [
              0.7777777777777778,
              "#fb9f3a"
             ],
             [
              0.8888888888888888,
              "#fdca26"
             ],
             [
              1,
              "#f0f921"
             ]
            ],
            "type": "surface"
           }
          ],
          "table": [
           {
            "cells": {
             "fill": {
              "color": "#EBF0F8"
             },
             "line": {
              "color": "white"
             }
            },
            "header": {
             "fill": {
              "color": "#C8D4E3"
             },
             "line": {
              "color": "white"
             }
            },
            "type": "table"
           }
          ]
         },
         "layout": {
          "annotationdefaults": {
           "arrowcolor": "#2a3f5f",
           "arrowhead": 0,
           "arrowwidth": 1
          },
          "autotypenumbers": "strict",
          "coloraxis": {
           "colorbar": {
            "outlinewidth": 0,
            "ticks": ""
           }
          },
          "colorscale": {
           "diverging": [
            [
             0,
             "#8e0152"
            ],
            [
             0.1,
             "#c51b7d"
            ],
            [
             0.2,
             "#de77ae"
            ],
            [
             0.3,
             "#f1b6da"
            ],
            [
             0.4,
             "#fde0ef"
            ],
            [
             0.5,
             "#f7f7f7"
            ],
            [
             0.6,
             "#e6f5d0"
            ],
            [
             0.7,
             "#b8e186"
            ],
            [
             0.8,
             "#7fbc41"
            ],
            [
             0.9,
             "#4d9221"
            ],
            [
             1,
             "#276419"
            ]
           ],
           "sequential": [
            [
             0,
             "#0d0887"
            ],
            [
             0.1111111111111111,
             "#46039f"
            ],
            [
             0.2222222222222222,
             "#7201a8"
            ],
            [
             0.3333333333333333,
             "#9c179e"
            ],
            [
             0.4444444444444444,
             "#bd3786"
            ],
            [
             0.5555555555555556,
             "#d8576b"
            ],
            [
             0.6666666666666666,
             "#ed7953"
            ],
            [
             0.7777777777777778,
             "#fb9f3a"
            ],
            [
             0.8888888888888888,
             "#fdca26"
            ],
            [
             1,
             "#f0f921"
            ]
           ],
           "sequentialminus": [
            [
             0,
             "#0d0887"
            ],
            [
             0.1111111111111111,
             "#46039f"
            ],
            [
             0.2222222222222222,
             "#7201a8"
            ],
            [
             0.3333333333333333,
             "#9c179e"
            ],
            [
             0.4444444444444444,
             "#bd3786"
            ],
            [
             0.5555555555555556,
             "#d8576b"
            ],
            [
             0.6666666666666666,
             "#ed7953"
            ],
            [
             0.7777777777777778,
             "#fb9f3a"
            ],
            [
             0.8888888888888888,
             "#fdca26"
            ],
            [
             1,
             "#f0f921"
            ]
           ]
          },
          "colorway": [
           "#636efa",
           "#EF553B",
           "#00cc96",
           "#ab63fa",
           "#FFA15A",
           "#19d3f3",
           "#FF6692",
           "#B6E880",
           "#FF97FF",
           "#FECB52"
          ],
          "font": {
           "color": "#2a3f5f"
          },
          "geo": {
           "bgcolor": "white",
           "lakecolor": "white",
           "landcolor": "#E5ECF6",
           "showlakes": true,
           "showland": true,
           "subunitcolor": "white"
          },
          "hoverlabel": {
           "align": "left"
          },
          "hovermode": "closest",
          "mapbox": {
           "style": "light"
          },
          "paper_bgcolor": "white",
          "plot_bgcolor": "#E5ECF6",
          "polar": {
           "angularaxis": {
            "gridcolor": "white",
            "linecolor": "white",
            "ticks": ""
           },
           "bgcolor": "#E5ECF6",
           "radialaxis": {
            "gridcolor": "white",
            "linecolor": "white",
            "ticks": ""
           }
          },
          "scene": {
           "xaxis": {
            "backgroundcolor": "#E5ECF6",
            "gridcolor": "white",
            "gridwidth": 2,
            "linecolor": "white",
            "showbackground": true,
            "ticks": "",
            "zerolinecolor": "white"
           },
           "yaxis": {
            "backgroundcolor": "#E5ECF6",
            "gridcolor": "white",
            "gridwidth": 2,
            "linecolor": "white",
            "showbackground": true,
            "ticks": "",
            "zerolinecolor": "white"
           },
           "zaxis": {
            "backgroundcolor": "#E5ECF6",
            "gridcolor": "white",
            "gridwidth": 2,
            "linecolor": "white",
            "showbackground": true,
            "ticks": "",
            "zerolinecolor": "white"
           }
          },
          "shapedefaults": {
           "line": {
            "color": "#2a3f5f"
           }
          },
          "ternary": {
           "aaxis": {
            "gridcolor": "white",
            "linecolor": "white",
            "ticks": ""
           },
           "baxis": {
            "gridcolor": "white",
            "linecolor": "white",
            "ticks": ""
           },
           "bgcolor": "#E5ECF6",
           "caxis": {
            "gridcolor": "white",
            "linecolor": "white",
            "ticks": ""
           }
          },
          "title": {
           "x": 0.05
          },
          "xaxis": {
           "automargin": true,
           "gridcolor": "white",
           "linecolor": "white",
           "ticks": "",
           "title": {
            "standoff": 15
           },
           "zerolinecolor": "white",
           "zerolinewidth": 2
          },
          "yaxis": {
           "automargin": true,
           "gridcolor": "white",
           "linecolor": "white",
           "ticks": "",
           "title": {
            "standoff": 15
           },
           "zerolinecolor": "white",
           "zerolinewidth": 2
          }
         }
        },
        "title": {
         "text": "Historical Record by Sport/League"
        },
        "xaxis": {
         "anchor": "y",
         "domain": [
          0,
          1
         ],
         "title": {
          "text": "Sport"
         }
        },
        "yaxis": {
         "anchor": "x",
         "categoryorder": "total ascending",
         "domain": [
          0,
          1
         ],
         "title": {
          "text": "Dollars ($)"
         }
        }
       }
      }
     },
     "metadata": {},
     "output_type": "display_data"
    }
   ],
   "source": [
    "week = px.histogram(df, \n",
    "            x=\"Sport\", \n",
    "            y=\"Win/Lose\", \n",
    "            color=\"League\", \n",
    "            barmode=\"group\",\n",
    "            title=f\"Historical Record by Sport/League\"\n",
    "            ,histfunc=\"sum\"\n",
    "            ,text_auto=True)\n",
    "\n",
    "week.update_layout(yaxis_title=\"Dollars ($)\")\n",
    "week.update_yaxes(categoryorder='total ascending')\n",
    "\n",
    "week.show()"
   ]
  },
  {
   "cell_type": "code",
   "execution_count": null,
   "metadata": {},
   "outputs": [],
   "source": []
  }
 ],
 "metadata": {
  "kernelspec": {
   "display_name": "Python 3.9.12 ('base')",
   "language": "python",
   "name": "python3"
  },
  "language_info": {
   "codemirror_mode": {
    "name": "ipython",
    "version": 3
   },
   "file_extension": ".py",
   "mimetype": "text/x-python",
   "name": "python",
   "nbconvert_exporter": "python",
   "pygments_lexer": "ipython3",
   "version": "3.9.12"
  },
  "orig_nbformat": 4,
  "vscode": {
   "interpreter": {
    "hash": "6eb4ec4b45a3175deb382788184c51ccb09fea0c8cdc57601a4e526e047f1c35"
   }
  }
 },
 "nbformat": 4,
 "nbformat_minor": 2
}
